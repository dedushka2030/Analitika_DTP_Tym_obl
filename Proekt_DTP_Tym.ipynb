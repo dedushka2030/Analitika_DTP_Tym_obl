{
 "cells": [
  {
   "cell_type": "markdown",
   "metadata": {},
   "source": [
    "# Аналитика ДТП по предоставленным данным"
   ]
  },
  {
   "cell_type": "markdown",
   "metadata": {},
   "source": [
    "**Описание проекта**\n",
    "\n",
    "\n",
    "*Вам предлагается поработать над задачей исследования данных о дорожно-транспортных происшествиях (ДТП).*\n",
    "\n",
    "*Заказчиком (Оунером задачи) выступает проект «Карта ДТП» https://dtp-stat.ru/ — некоммерческий проект, посвященный проблеме дорожно-транспортных происшествий в России. Это платформа сбора данных о ДТП, бесплатный и открытый сервис аналитики ДТП.*\n",
    "\n",
    "**Цель проекта**\n",
    "\n",
    "*Провести глубокий анализ данных, сформулировать и проверить гипотезы, опираясь на доступные признаки.*\n"
   ]
  },
  {
   "cell_type": "markdown",
   "metadata": {},
   "source": [
    "**Инструкция по выполнению проекта**\n",
    "\n",
    "**Шаг 1. Открыть файл(файлы) с данными и изучить общую информацию**\n",
    "\n",
    "**Шаг 2. Подготовить данные**\n",
    "\n",
    "- 2.1 Отредактировать названия столбцов, обработать пропуски, данные привести к нужному типу.\n",
    "- 2.2 Проверить таблицу на дубликаты.\n",
    "- 2.3 Проверить за какой период данными мы распологаем.\n",
    "\n",
    "**Шаг 3. Провести исследовательский анализ данных**\n",
    "\n",
    "- 3.1 Падает ли общее количество ДТП в регионе от 2015 к 2024 году, также посмотреть в какой период года увеличивается количество ДТП.\n",
    "- 3.2 Влияет ли время суток на тяжесть последствий ДТП для людей.\n",
    "- 3.3 Можно ли сказать, что чем старше авто, тем чаще оно является участником ДТП.\n",
    "- 3.4 Можно ли сказать, что количество пострадавших или погибших зависит от возраста ТС при ДТП.\n",
    "\n",
    "**Шаг 4. Проверить гипотезы**\n",
    "  \n",
    "- 4.1 Можно ли утверждать, что в Тюмени помесячное количество ДТП  больше, чем во всех остальных районах области.\n",
    "- 4.2 Можно ли утверждать, что женщины получают травмы (в том числе с летальным исходом) чаще, чем мужчины.\n",
    "- 4.3 Среднее количество ДТП на мокром или сухом покрытии одинаковы.\n",
    "\n",
    "**Шаг 5. Написать общий вывод**\n"
   ]
  },
  {
   "cell_type": "markdown",
   "metadata": {},
   "source": [
    "**Описание данных**\n",
    "\n",
    "**df**\n",
    "\n",
    " - id - идентификационный номер\n",
    " - tags - вид ДТП\n",
    " - light - время суток\n",
    " - nearby - объекты по близости\n",
    " - region - регион\n",
    " - datetime - дата и время\n",
    " - severity - тяжесть последствий дтп\n",
    " - vehicles - транспортные средства и др. информация (две вложенные таблицы)\n",
    " - dead_count - количество погибших\n",
    " - participants - участники (вложенная таблица)\n",
    " - injured_count - количество раненых\n",
    " - parent_region - название федерального региона\n",
    " - road_conditions - дорожные условия\n",
    " - participants_count - количество участников\n",
    " - participant_categories - категории участников\n",
    " \n",
    "**vehicles**\n",
    "\n",
    " - id - идентификационный номер\n",
    " - year - год выпуска авто\n",
    " - brand - марка авто\n",
    " - color - цвет авто\n",
    " - model - модель авто\n",
    " - category - категория авто\n",
    " - participants - участники (вложенная таблица - participants_vehicles)\n",
    " \n",
    "**participants_vehicles**\n",
    "\n",
    " - id -  идентификационный номер\n",
    " - role - роль\n",
    " - gender - пол\n",
    " - violations - нарушение ПДД \n",
    " - health_status - состояние здоровья \n",
    " - years_of_driving_experience - стаж вождения\n",
    "\n",
    "\n",
    "**participants**\n",
    "\n",
    " - id - идентификационный номер\n",
    " - role - роль\n",
    " - gender - пол \n",
    " - violations - нарушение ПДД \n",
    " - health_status - состояние здоровья \n"
   ]
  },
  {
   "cell_type": "markdown",
   "metadata": {},
   "source": [
    "### Шаг 1.Открыть файл(файлы) с данными и изучить общую информацию"
   ]
  },
  {
   "cell_type": "code",
   "execution_count": 1,
   "metadata": {},
   "outputs": [],
   "source": [
    "import os\n",
    "import requests\n",
    "import json\n",
    "import pandas as pd\n",
    "import numpy as np\n",
    "import datetime\n",
    "import matplotlib.pyplot as plt\n",
    "import seaborn as sns\n",
    "import phik\n",
    "from math import sqrt\n",
    "from scipy import stats as st\n",
    "from scipy.stats import norm\n",
    "from datetime import datetime"
   ]
  },
  {
   "cell_type": "code",
   "execution_count": 2,
   "metadata": {},
   "outputs": [],
   "source": [
    "pth1 = \"C:/Users/Home/Desktop/tiumenskaia-oblast.geojson\"\n",
    "url = 'https://cms.dtp-stat.ru/media/opendata/tiumenskaia-oblast.geojson'\n",
    "response = requests.get(url)\n",
    "pth2 = response.content.decode('utf-8')\n",
    "\n",
    "if os.path.exists(pth1):\n",
    "    with open(pth1, \"r\", encoding=\"utf-8\") as f:\n",
    "        data = json.load(f) \n",
    "elif (pth2):\n",
    "    data = json.loads(pth2)\n",
    "else:\n",
    "    print('Something is wrong')"
   ]
  },
  {
   "cell_type": "code",
   "execution_count": 3,
   "metadata": {},
   "outputs": [
    {
     "name": "stdout",
     "output_type": "stream",
     "text": [
      "dict_keys(['type', 'features'])\n",
      "{'id': 2620494, 'tags': ['Дорожно-транспортные происшествия'], 'light': 'В темное время суток, освещение не включено', 'point': {'lat': 57.395526, 'long': 67.073872}, 'nearby': ['Жилые дома индивидуальной застройки', 'Нерегулируемый перекрёсток неравнозначных улиц (дорог)', 'Нерегулируемый пешеходный переход', 'Объект (здание, сооружение) религиозного культа'], 'region': 'Ярковский район', 'scheme': '710', 'address': 'с Ярково, ул Республики, 34', 'weather': ['Ясно'], 'category': 'Наезд на пешехода', 'datetime': '2021-09-16 19:40:00', 'severity': 'С погибшими', 'vehicles': [{'year': 1989, 'brand': 'ВАЗ', 'color': 'Иные цвета', 'model': ' Жигули  ВАЗ-2106 модификации', 'category': 'В-класс (малый) до 3,9 м', 'participants': [{'role': 'Водитель', 'gender': 'Мужской', 'violations': ['Нарушение правил проезда пешеходного перехода', 'Несоблюдение требований ОСАГО'], 'health_status': 'Не пострадал', 'years_of_driving_experience': 9}]}], 'dead_count': 1, 'participants': [{'role': 'Пешеход', 'gender': 'Женский', 'violations': [], 'health_status': 'Скончался в течение 9 суток'}], 'injured_count': 0, 'parent_region': 'Тюменская область', 'road_conditions': ['Иные недостатки', 'Сухое', 'Неправильное применение, плохая видимость дорожных знаков'], 'participants_count': 2, 'participant_categories': ['Все участники', 'Пешеходы']}\n"
     ]
    }
   ],
   "source": [
    "print(data.keys())  # Проверить основные ключи\n",
    "print(data[\"features\"][0][\"properties\"])"
   ]
  },
  {
   "cell_type": "code",
   "execution_count": 4,
   "metadata": {},
   "outputs": [],
   "source": [
    "dtp = pd.json_normalize(data[\"features\"])"
   ]
  },
  {
   "cell_type": "code",
   "execution_count": 5,
   "metadata": {},
   "outputs": [
    {
     "name": "stdout",
     "output_type": "stream",
     "text": [
      "      type geometry.type    geometry.coordinates  properties.id  \\\n",
      "0  Feature         Point  [67.073872, 57.395526]        2620494   \n",
      "1  Feature         Point  [67.125435, 57.519603]        2646198   \n",
      "2  Feature         Point  [67.430649, 57.663769]        2646204   \n",
      "3  Feature         Point   [66.839232, 57.26352]        2646211   \n",
      "4  Feature         Point   [66.473808, 57.13256]        2559792   \n",
      "\n",
      "                       properties.tags  \\\n",
      "0  [Дорожно-транспортные происшествия]   \n",
      "1  [Дорожно-транспортные происшествия]   \n",
      "2  [Дорожно-транспортные происшествия]   \n",
      "3  [Дорожно-транспортные происшествия]   \n",
      "4  [Дорожно-транспортные происшествия]   \n",
      "\n",
      "                              properties.light  properties.point.lat  \\\n",
      "0  В темное время суток, освещение не включено             57.395526   \n",
      "1                          Светлое время суток             57.519603   \n",
      "2                          Светлое время суток             57.663769   \n",
      "3                          Светлое время суток             57.263520   \n",
      "4                          Светлое время суток             57.132560   \n",
      "\n",
      "   properties.point.long                                  properties.nearby  \\\n",
      "0              67.073872  [Жилые дома индивидуальной застройки, Нерегули...   \n",
      "1              67.125435                                                 []   \n",
      "2              67.430649                                                 []   \n",
      "3              66.839232                                                 []   \n",
      "4              66.473808                                      [Зоны отдыха]   \n",
      "\n",
      "  properties.region  ...  properties.datetime properties.severity  \\\n",
      "0   Ярковский район  ...  2021-09-16 19:40:00         С погибшими   \n",
      "1   Ярковский район  ...  2021-11-30 08:15:00             Тяжёлый   \n",
      "2   Ярковский район  ...  2021-11-17 14:25:00              Легкий   \n",
      "3   Ярковский район  ...  2021-11-11 13:00:00         С погибшими   \n",
      "4   Ярковский район  ...  2021-04-11 17:55:00              Легкий   \n",
      "\n",
      "                                 properties.vehicles properties.dead_count  \\\n",
      "0  [{'year': 1989, 'brand': 'ВАЗ', 'color': 'Иные...                     1   \n",
      "1  [{'year': 2014, 'brand': 'LIFAN', 'color': 'Бе...                     0   \n",
      "2  [{'year': 2012, 'brand': 'MAZDA', 'color': 'Ин...                     0   \n",
      "3  [{'year': 1988, 'brand': 'MERCEDES', 'color': ...                     1   \n",
      "4  [{'year': 2020, 'brand': 'Прочие марки ТС', 'c...                     0   \n",
      "\n",
      "                             properties.participants properties.injured_count  \\\n",
      "0  [{'role': 'Пешеход', 'gender': 'Женский', 'vio...                        0   \n",
      "1                                                 []                        1   \n",
      "2                                                 []                        1   \n",
      "3                                                 []                        0   \n",
      "4                                                 []                        1   \n",
      "\n",
      "  properties.parent_region                         properties.road_conditions  \\\n",
      "0        Тюменская область  [Иные недостатки, Сухое, Неправильное применен...   \n",
      "1        Тюменская область  [Сухое, Отсутствие, плохая различимость горизо...   \n",
      "2        Тюменская область                                            [Сухое]   \n",
      "3        Тюменская область      [Обработанное противогололедными материалами]   \n",
      "4        Тюменская область                                            [Сухое]   \n",
      "\n",
      "  properties.participants_count  properties.participant_categories  \n",
      "0                             2          [Все участники, Пешеходы]  \n",
      "1                             3                    [Все участники]  \n",
      "2                             1                    [Все участники]  \n",
      "3                             2                    [Все участники]  \n",
      "4                             1                    [Все участники]  \n",
      "\n",
      "[5 rows x 24 columns]\n"
     ]
    }
   ],
   "source": [
    "print(dtp.head(5))"
   ]
  },
  {
   "cell_type": "markdown",
   "metadata": {},
   "source": [
    "*После открытия файла мы видим, что работать нужно только с вкладкой \"features\",файл привели в нужный для работы вид. На основе данного файла создаем Dataframe - `df`, который будет содержать необходимые для нас колонки, дальнейшая работа будет проводится именно с ним.*"
   ]
  },
  {
   "cell_type": "markdown",
   "metadata": {},
   "source": [
    "### Шаг 2. Подготовить данные"
   ]
  },
  {
   "cell_type": "markdown",
   "metadata": {},
   "source": [
    "#### 2.1 Отредактировать названия столбцов, обработать пропуски, данные привести к нужному типу"
   ]
  },
  {
   "cell_type": "code",
   "execution_count": 6,
   "metadata": {},
   "outputs": [],
   "source": [
    "df_raw =(\n",
    "    pd.DataFrame(data=dtp, columns=['properties.id', 'properties.tags',\n",
    "    'properties.light', 'properties.nearby', 'properties.region', 'properties.datetime',\n",
    "    'properties.severity', 'properties.vehicles', 'properties.dead_count', 'properties.participants',\n",
    "    'properties.injured_count', 'properties.parent_region', 'properties.road_conditions', \n",
    "    'properties.participants_count', 'properties.participant_categories'])\n",
    ")"
   ]
  },
  {
   "cell_type": "code",
   "execution_count": 7,
   "metadata": {},
   "outputs": [],
   "source": [
    "df_raw = df_raw.rename(\n",
    "    columns={\n",
    "        'properties.id': 'id',\n",
    "        'properties.tags': 'tags',\n",
    "        'properties.light': 'light',\n",
    "        'properties.nearby': 'nearby',\n",
    "        'properties.region': 'region',\n",
    "        'properties.datetime': 'datetime',\n",
    "        'properties.severity': 'severity',\n",
    "        'properties.vehicles': 'vehicles',\n",
    "        'properties.dead_count': 'dead_count',\n",
    "        'properties.participants': 'participants',\n",
    "        'properties.injured_count': 'injured_count',\n",
    "        'properties.parent_region': 'parent_region',\n",
    "        'properties.road_conditions': 'road_conditions',\n",
    "        'properties.participants_count': 'participants_count',\n",
    "        'properties.participant_categories': 'participant_categories'\n",
    "        }\n",
    ")"
   ]
  },
  {
   "cell_type": "code",
   "execution_count": 8,
   "metadata": {},
   "outputs": [
    {
     "data": {
      "text/html": [
       "<div>\n",
       "<style scoped>\n",
       "    .dataframe tbody tr th:only-of-type {\n",
       "        vertical-align: middle;\n",
       "    }\n",
       "\n",
       "    .dataframe tbody tr th {\n",
       "        vertical-align: top;\n",
       "    }\n",
       "\n",
       "    .dataframe thead th {\n",
       "        text-align: right;\n",
       "    }\n",
       "</style>\n",
       "<table border=\"1\" class=\"dataframe\">\n",
       "  <thead>\n",
       "    <tr style=\"text-align: right;\">\n",
       "      <th></th>\n",
       "      <th>id</th>\n",
       "      <th>tags</th>\n",
       "      <th>light</th>\n",
       "      <th>nearby</th>\n",
       "      <th>region</th>\n",
       "      <th>datetime</th>\n",
       "      <th>severity</th>\n",
       "      <th>vehicles</th>\n",
       "      <th>dead_count</th>\n",
       "      <th>participants</th>\n",
       "      <th>injured_count</th>\n",
       "      <th>parent_region</th>\n",
       "      <th>road_conditions</th>\n",
       "      <th>participants_count</th>\n",
       "      <th>participant_categories</th>\n",
       "    </tr>\n",
       "  </thead>\n",
       "  <tbody>\n",
       "    <tr>\n",
       "      <th>0</th>\n",
       "      <td>2620494</td>\n",
       "      <td>[Дорожно-транспортные происшествия]</td>\n",
       "      <td>В темное время суток, освещение не включено</td>\n",
       "      <td>[Жилые дома индивидуальной застройки, Нерегули...</td>\n",
       "      <td>Ярковский район</td>\n",
       "      <td>2021-09-16 19:40:00</td>\n",
       "      <td>С погибшими</td>\n",
       "      <td>[{'year': 1989, 'brand': 'ВАЗ', 'color': 'Иные...</td>\n",
       "      <td>1</td>\n",
       "      <td>[{'role': 'Пешеход', 'gender': 'Женский', 'vio...</td>\n",
       "      <td>0</td>\n",
       "      <td>Тюменская область</td>\n",
       "      <td>[Иные недостатки, Сухое, Неправильное применен...</td>\n",
       "      <td>2</td>\n",
       "      <td>[Все участники, Пешеходы]</td>\n",
       "    </tr>\n",
       "    <tr>\n",
       "      <th>1</th>\n",
       "      <td>2646198</td>\n",
       "      <td>[Дорожно-транспортные происшествия]</td>\n",
       "      <td>Светлое время суток</td>\n",
       "      <td>[]</td>\n",
       "      <td>Ярковский район</td>\n",
       "      <td>2021-11-30 08:15:00</td>\n",
       "      <td>Тяжёлый</td>\n",
       "      <td>[{'year': 2014, 'brand': 'LIFAN', 'color': 'Бе...</td>\n",
       "      <td>0</td>\n",
       "      <td>[]</td>\n",
       "      <td>1</td>\n",
       "      <td>Тюменская область</td>\n",
       "      <td>[Сухое, Отсутствие, плохая различимость горизо...</td>\n",
       "      <td>3</td>\n",
       "      <td>[Все участники]</td>\n",
       "    </tr>\n",
       "    <tr>\n",
       "      <th>2</th>\n",
       "      <td>2646204</td>\n",
       "      <td>[Дорожно-транспортные происшествия]</td>\n",
       "      <td>Светлое время суток</td>\n",
       "      <td>[]</td>\n",
       "      <td>Ярковский район</td>\n",
       "      <td>2021-11-17 14:25:00</td>\n",
       "      <td>Легкий</td>\n",
       "      <td>[{'year': 2012, 'brand': 'MAZDA', 'color': 'Ин...</td>\n",
       "      <td>0</td>\n",
       "      <td>[]</td>\n",
       "      <td>1</td>\n",
       "      <td>Тюменская область</td>\n",
       "      <td>[Сухое]</td>\n",
       "      <td>1</td>\n",
       "      <td>[Все участники]</td>\n",
       "    </tr>\n",
       "    <tr>\n",
       "      <th>3</th>\n",
       "      <td>2646211</td>\n",
       "      <td>[Дорожно-транспортные происшествия]</td>\n",
       "      <td>Светлое время суток</td>\n",
       "      <td>[]</td>\n",
       "      <td>Ярковский район</td>\n",
       "      <td>2021-11-11 13:00:00</td>\n",
       "      <td>С погибшими</td>\n",
       "      <td>[{'year': 1988, 'brand': 'MERCEDES', 'color': ...</td>\n",
       "      <td>1</td>\n",
       "      <td>[]</td>\n",
       "      <td>0</td>\n",
       "      <td>Тюменская область</td>\n",
       "      <td>[Обработанное противогололедными материалами]</td>\n",
       "      <td>2</td>\n",
       "      <td>[Все участники]</td>\n",
       "    </tr>\n",
       "    <tr>\n",
       "      <th>4</th>\n",
       "      <td>2559792</td>\n",
       "      <td>[Дорожно-транспортные происшествия]</td>\n",
       "      <td>Светлое время суток</td>\n",
       "      <td>[Зоны отдыха]</td>\n",
       "      <td>Ярковский район</td>\n",
       "      <td>2021-04-11 17:55:00</td>\n",
       "      <td>Легкий</td>\n",
       "      <td>[{'year': 2020, 'brand': 'Прочие марки ТС', 'c...</td>\n",
       "      <td>0</td>\n",
       "      <td>[]</td>\n",
       "      <td>1</td>\n",
       "      <td>Тюменская область</td>\n",
       "      <td>[Сухое]</td>\n",
       "      <td>1</td>\n",
       "      <td>[Все участники]</td>\n",
       "    </tr>\n",
       "  </tbody>\n",
       "</table>\n",
       "</div>"
      ],
      "text/plain": [
       "        id                                 tags  \\\n",
       "0  2620494  [Дорожно-транспортные происшествия]   \n",
       "1  2646198  [Дорожно-транспортные происшествия]   \n",
       "2  2646204  [Дорожно-транспортные происшествия]   \n",
       "3  2646211  [Дорожно-транспортные происшествия]   \n",
       "4  2559792  [Дорожно-транспортные происшествия]   \n",
       "\n",
       "                                         light  \\\n",
       "0  В темное время суток, освещение не включено   \n",
       "1                          Светлое время суток   \n",
       "2                          Светлое время суток   \n",
       "3                          Светлое время суток   \n",
       "4                          Светлое время суток   \n",
       "\n",
       "                                              nearby           region  \\\n",
       "0  [Жилые дома индивидуальной застройки, Нерегули...  Ярковский район   \n",
       "1                                                 []  Ярковский район   \n",
       "2                                                 []  Ярковский район   \n",
       "3                                                 []  Ярковский район   \n",
       "4                                      [Зоны отдыха]  Ярковский район   \n",
       "\n",
       "              datetime     severity  \\\n",
       "0  2021-09-16 19:40:00  С погибшими   \n",
       "1  2021-11-30 08:15:00      Тяжёлый   \n",
       "2  2021-11-17 14:25:00       Легкий   \n",
       "3  2021-11-11 13:00:00  С погибшими   \n",
       "4  2021-04-11 17:55:00       Легкий   \n",
       "\n",
       "                                            vehicles  dead_count  \\\n",
       "0  [{'year': 1989, 'brand': 'ВАЗ', 'color': 'Иные...           1   \n",
       "1  [{'year': 2014, 'brand': 'LIFAN', 'color': 'Бе...           0   \n",
       "2  [{'year': 2012, 'brand': 'MAZDA', 'color': 'Ин...           0   \n",
       "3  [{'year': 1988, 'brand': 'MERCEDES', 'color': ...           1   \n",
       "4  [{'year': 2020, 'brand': 'Прочие марки ТС', 'c...           0   \n",
       "\n",
       "                                        participants  injured_count  \\\n",
       "0  [{'role': 'Пешеход', 'gender': 'Женский', 'vio...              0   \n",
       "1                                                 []              1   \n",
       "2                                                 []              1   \n",
       "3                                                 []              0   \n",
       "4                                                 []              1   \n",
       "\n",
       "       parent_region                                    road_conditions  \\\n",
       "0  Тюменская область  [Иные недостатки, Сухое, Неправильное применен...   \n",
       "1  Тюменская область  [Сухое, Отсутствие, плохая различимость горизо...   \n",
       "2  Тюменская область                                            [Сухое]   \n",
       "3  Тюменская область      [Обработанное противогололедными материалами]   \n",
       "4  Тюменская область                                            [Сухое]   \n",
       "\n",
       "   participants_count     participant_categories  \n",
       "0                   2  [Все участники, Пешеходы]  \n",
       "1                   3            [Все участники]  \n",
       "2                   1            [Все участники]  \n",
       "3                   2            [Все участники]  \n",
       "4                   1            [Все участники]  "
      ]
     },
     "execution_count": 8,
     "metadata": {},
     "output_type": "execute_result"
    }
   ],
   "source": [
    "df_raw.head(5)"
   ]
  },
  {
   "cell_type": "code",
   "execution_count": 9,
   "metadata": {},
   "outputs": [
    {
     "name": "stdout",
     "output_type": "stream",
     "text": [
      "<class 'pandas.core.frame.DataFrame'>\n",
      "RangeIndex: 26431 entries, 0 to 26430\n",
      "Data columns (total 15 columns):\n",
      " #   Column                  Non-Null Count  Dtype \n",
      "---  ------                  --------------  ----- \n",
      " 0   id                      26431 non-null  int64 \n",
      " 1   tags                    26431 non-null  object\n",
      " 2   light                   26431 non-null  object\n",
      " 3   nearby                  26431 non-null  object\n",
      " 4   region                  26431 non-null  object\n",
      " 5   datetime                26431 non-null  object\n",
      " 6   severity                26431 non-null  object\n",
      " 7   vehicles                26431 non-null  object\n",
      " 8   dead_count              26431 non-null  int64 \n",
      " 9   participants            26431 non-null  object\n",
      " 10  injured_count           26431 non-null  int64 \n",
      " 11  parent_region           26431 non-null  object\n",
      " 12  road_conditions         26431 non-null  object\n",
      " 13  participants_count      26431 non-null  int64 \n",
      " 14  participant_categories  26431 non-null  object\n",
      "dtypes: int64(4), object(11)\n",
      "memory usage: 3.0+ MB\n"
     ]
    }
   ],
   "source": [
    "df_raw.info()"
   ]
  },
  {
   "cell_type": "markdown",
   "metadata": {},
   "source": [
    "*После просмотра готового DataFrame мы видим, что имеем 26431 строчку с данными, в которых пропуски есть в столбце `nearby` заменим их на `'Не заполнено'` еще мы видим, что в столбцах имеются лишние скобки, кавычки, данные нужно привести к нужному типу. Так же видим, что в столбцах `vehicles` и `participants` есть свои таблицы, которые необходимо так же открыть и привести в необходимый вид, данные столбцы уберем из таблицы и назовем ее `df`*"
   ]
  },
  {
   "cell_type": "code",
   "execution_count": 10,
   "metadata": {},
   "outputs": [
    {
     "data": {
      "text/html": [
       "<div>\n",
       "<style scoped>\n",
       "    .dataframe tbody tr th:only-of-type {\n",
       "        vertical-align: middle;\n",
       "    }\n",
       "\n",
       "    .dataframe tbody tr th {\n",
       "        vertical-align: top;\n",
       "    }\n",
       "\n",
       "    .dataframe thead th {\n",
       "        text-align: right;\n",
       "    }\n",
       "</style>\n",
       "<table border=\"1\" class=\"dataframe\">\n",
       "  <thead>\n",
       "    <tr style=\"text-align: right;\">\n",
       "      <th></th>\n",
       "      <th>id</th>\n",
       "      <th>tags</th>\n",
       "      <th>light</th>\n",
       "      <th>nearby</th>\n",
       "      <th>region</th>\n",
       "      <th>datetime</th>\n",
       "      <th>severity</th>\n",
       "      <th>dead_count</th>\n",
       "      <th>injured_count</th>\n",
       "      <th>parent_region</th>\n",
       "      <th>road_conditions</th>\n",
       "      <th>participants_count</th>\n",
       "      <th>participant_categories</th>\n",
       "    </tr>\n",
       "  </thead>\n",
       "  <tbody>\n",
       "    <tr>\n",
       "      <th>0</th>\n",
       "      <td>2620494</td>\n",
       "      <td>[Дорожно-транспортные происшествия]</td>\n",
       "      <td>В темное время суток, освещение не включено</td>\n",
       "      <td>[Жилые дома индивидуальной застройки, Нерегули...</td>\n",
       "      <td>Ярковский район</td>\n",
       "      <td>2021-09-16 19:40:00</td>\n",
       "      <td>С погибшими</td>\n",
       "      <td>1</td>\n",
       "      <td>0</td>\n",
       "      <td>Тюменская область</td>\n",
       "      <td>[Иные недостатки, Сухое, Неправильное применен...</td>\n",
       "      <td>2</td>\n",
       "      <td>[Все участники, Пешеходы]</td>\n",
       "    </tr>\n",
       "    <tr>\n",
       "      <th>1</th>\n",
       "      <td>2646198</td>\n",
       "      <td>[Дорожно-транспортные происшествия]</td>\n",
       "      <td>Светлое время суток</td>\n",
       "      <td>[]</td>\n",
       "      <td>Ярковский район</td>\n",
       "      <td>2021-11-30 08:15:00</td>\n",
       "      <td>Тяжёлый</td>\n",
       "      <td>0</td>\n",
       "      <td>1</td>\n",
       "      <td>Тюменская область</td>\n",
       "      <td>[Сухое, Отсутствие, плохая различимость горизо...</td>\n",
       "      <td>3</td>\n",
       "      <td>[Все участники]</td>\n",
       "    </tr>\n",
       "    <tr>\n",
       "      <th>2</th>\n",
       "      <td>2646204</td>\n",
       "      <td>[Дорожно-транспортные происшествия]</td>\n",
       "      <td>Светлое время суток</td>\n",
       "      <td>[]</td>\n",
       "      <td>Ярковский район</td>\n",
       "      <td>2021-11-17 14:25:00</td>\n",
       "      <td>Легкий</td>\n",
       "      <td>0</td>\n",
       "      <td>1</td>\n",
       "      <td>Тюменская область</td>\n",
       "      <td>[Сухое]</td>\n",
       "      <td>1</td>\n",
       "      <td>[Все участники]</td>\n",
       "    </tr>\n",
       "    <tr>\n",
       "      <th>3</th>\n",
       "      <td>2646211</td>\n",
       "      <td>[Дорожно-транспортные происшествия]</td>\n",
       "      <td>Светлое время суток</td>\n",
       "      <td>[]</td>\n",
       "      <td>Ярковский район</td>\n",
       "      <td>2021-11-11 13:00:00</td>\n",
       "      <td>С погибшими</td>\n",
       "      <td>1</td>\n",
       "      <td>0</td>\n",
       "      <td>Тюменская область</td>\n",
       "      <td>[Обработанное противогололедными материалами]</td>\n",
       "      <td>2</td>\n",
       "      <td>[Все участники]</td>\n",
       "    </tr>\n",
       "    <tr>\n",
       "      <th>4</th>\n",
       "      <td>2559792</td>\n",
       "      <td>[Дорожно-транспортные происшествия]</td>\n",
       "      <td>Светлое время суток</td>\n",
       "      <td>[Зоны отдыха]</td>\n",
       "      <td>Ярковский район</td>\n",
       "      <td>2021-04-11 17:55:00</td>\n",
       "      <td>Легкий</td>\n",
       "      <td>0</td>\n",
       "      <td>1</td>\n",
       "      <td>Тюменская область</td>\n",
       "      <td>[Сухое]</td>\n",
       "      <td>1</td>\n",
       "      <td>[Все участники]</td>\n",
       "    </tr>\n",
       "  </tbody>\n",
       "</table>\n",
       "</div>"
      ],
      "text/plain": [
       "        id                                 tags  \\\n",
       "0  2620494  [Дорожно-транспортные происшествия]   \n",
       "1  2646198  [Дорожно-транспортные происшествия]   \n",
       "2  2646204  [Дорожно-транспортные происшествия]   \n",
       "3  2646211  [Дорожно-транспортные происшествия]   \n",
       "4  2559792  [Дорожно-транспортные происшествия]   \n",
       "\n",
       "                                         light  \\\n",
       "0  В темное время суток, освещение не включено   \n",
       "1                          Светлое время суток   \n",
       "2                          Светлое время суток   \n",
       "3                          Светлое время суток   \n",
       "4                          Светлое время суток   \n",
       "\n",
       "                                              nearby           region  \\\n",
       "0  [Жилые дома индивидуальной застройки, Нерегули...  Ярковский район   \n",
       "1                                                 []  Ярковский район   \n",
       "2                                                 []  Ярковский район   \n",
       "3                                                 []  Ярковский район   \n",
       "4                                      [Зоны отдыха]  Ярковский район   \n",
       "\n",
       "              datetime     severity  dead_count  injured_count  \\\n",
       "0  2021-09-16 19:40:00  С погибшими           1              0   \n",
       "1  2021-11-30 08:15:00      Тяжёлый           0              1   \n",
       "2  2021-11-17 14:25:00       Легкий           0              1   \n",
       "3  2021-11-11 13:00:00  С погибшими           1              0   \n",
       "4  2021-04-11 17:55:00       Легкий           0              1   \n",
       "\n",
       "       parent_region                                    road_conditions  \\\n",
       "0  Тюменская область  [Иные недостатки, Сухое, Неправильное применен...   \n",
       "1  Тюменская область  [Сухое, Отсутствие, плохая различимость горизо...   \n",
       "2  Тюменская область                                            [Сухое]   \n",
       "3  Тюменская область      [Обработанное противогололедными материалами]   \n",
       "4  Тюменская область                                            [Сухое]   \n",
       "\n",
       "   participants_count     participant_categories  \n",
       "0                   2  [Все участники, Пешеходы]  \n",
       "1                   3            [Все участники]  \n",
       "2                   1            [Все участники]  \n",
       "3                   2            [Все участники]  \n",
       "4                   1            [Все участники]  "
      ]
     },
     "execution_count": 10,
     "metadata": {},
     "output_type": "execute_result"
    }
   ],
   "source": [
    "df = df_raw.drop(columns=['vehicles', 'participants'])\n",
    "df.head(5)"
   ]
  },
  {
   "cell_type": "code",
   "execution_count": 11,
   "metadata": {},
   "outputs": [],
   "source": [
    "def convert_currency(val):\n",
    "    new_val = val.replace('[', '').replace(']', '').replace(\"'\", '').replace(\"''\", '')\n",
    "    return new_val\n",
    "# Функция для удаления \"[]\" и \"'\""
   ]
  },
  {
   "cell_type": "code",
   "execution_count": 12,
   "metadata": {},
   "outputs": [],
   "source": [
    "df['tags'] = df['tags'].astype('str').apply(convert_currency)\n",
    "df['nearby'] = df['nearby'].astype('str').apply(convert_currency)\n",
    "df['road_conditions'] = df['road_conditions'].astype('str').apply(convert_currency)\n",
    "df['participant_categories'] = df['participant_categories'].astype('str').apply(convert_currency)\n",
    "df['datetime'] = pd.to_datetime(df['datetime'])"
   ]
  },
  {
   "cell_type": "code",
   "execution_count": 13,
   "metadata": {},
   "outputs": [],
   "source": [
    "df['nearby'] = df['nearby'].replace('', 'Не заполнено')"
   ]
  },
  {
   "cell_type": "code",
   "execution_count": 14,
   "metadata": {},
   "outputs": [
    {
     "name": "stdout",
     "output_type": "stream",
     "text": [
      "<class 'pandas.core.frame.DataFrame'>\n",
      "RangeIndex: 26431 entries, 0 to 26430\n",
      "Data columns (total 13 columns):\n",
      " #   Column                  Non-Null Count  Dtype         \n",
      "---  ------                  --------------  -----         \n",
      " 0   id                      26431 non-null  int64         \n",
      " 1   tags                    26431 non-null  object        \n",
      " 2   light                   26431 non-null  object        \n",
      " 3   nearby                  26431 non-null  object        \n",
      " 4   region                  26431 non-null  object        \n",
      " 5   datetime                26431 non-null  datetime64[ns]\n",
      " 6   severity                26431 non-null  object        \n",
      " 7   dead_count              26431 non-null  int64         \n",
      " 8   injured_count           26431 non-null  int64         \n",
      " 9   parent_region           26431 non-null  object        \n",
      " 10  road_conditions         26431 non-null  object        \n",
      " 11  participants_count      26431 non-null  int64         \n",
      " 12  participant_categories  26431 non-null  object        \n",
      "dtypes: datetime64[ns](1), int64(4), object(8)\n",
      "memory usage: 2.6+ MB\n"
     ]
    }
   ],
   "source": [
    "df.info()"
   ]
  },
  {
   "cell_type": "code",
   "execution_count": 15,
   "metadata": {},
   "outputs": [
    {
     "data": {
      "text/html": [
       "<div>\n",
       "<style scoped>\n",
       "    .dataframe tbody tr th:only-of-type {\n",
       "        vertical-align: middle;\n",
       "    }\n",
       "\n",
       "    .dataframe tbody tr th {\n",
       "        vertical-align: top;\n",
       "    }\n",
       "\n",
       "    .dataframe thead th {\n",
       "        text-align: right;\n",
       "    }\n",
       "</style>\n",
       "<table border=\"1\" class=\"dataframe\">\n",
       "  <thead>\n",
       "    <tr style=\"text-align: right;\">\n",
       "      <th></th>\n",
       "      <th>id</th>\n",
       "      <th>tags</th>\n",
       "      <th>light</th>\n",
       "      <th>nearby</th>\n",
       "      <th>region</th>\n",
       "      <th>datetime</th>\n",
       "      <th>severity</th>\n",
       "      <th>dead_count</th>\n",
       "      <th>injured_count</th>\n",
       "      <th>parent_region</th>\n",
       "      <th>road_conditions</th>\n",
       "      <th>participants_count</th>\n",
       "      <th>participant_categories</th>\n",
       "    </tr>\n",
       "  </thead>\n",
       "  <tbody>\n",
       "    <tr>\n",
       "      <th>0</th>\n",
       "      <td>2620494</td>\n",
       "      <td>Дорожно-транспортные происшествия</td>\n",
       "      <td>В темное время суток, освещение не включено</td>\n",
       "      <td>Жилые дома индивидуальной застройки, Нерегулир...</td>\n",
       "      <td>Ярковский район</td>\n",
       "      <td>2021-09-16 19:40:00</td>\n",
       "      <td>С погибшими</td>\n",
       "      <td>1</td>\n",
       "      <td>0</td>\n",
       "      <td>Тюменская область</td>\n",
       "      <td>Иные недостатки, Сухое, Неправильное применени...</td>\n",
       "      <td>2</td>\n",
       "      <td>Все участники, Пешеходы</td>\n",
       "    </tr>\n",
       "    <tr>\n",
       "      <th>1</th>\n",
       "      <td>2646198</td>\n",
       "      <td>Дорожно-транспортные происшествия</td>\n",
       "      <td>Светлое время суток</td>\n",
       "      <td>Не заполнено</td>\n",
       "      <td>Ярковский район</td>\n",
       "      <td>2021-11-30 08:15:00</td>\n",
       "      <td>Тяжёлый</td>\n",
       "      <td>0</td>\n",
       "      <td>1</td>\n",
       "      <td>Тюменская область</td>\n",
       "      <td>Сухое, Отсутствие, плохая различимость горизон...</td>\n",
       "      <td>3</td>\n",
       "      <td>Все участники</td>\n",
       "    </tr>\n",
       "    <tr>\n",
       "      <th>2</th>\n",
       "      <td>2646204</td>\n",
       "      <td>Дорожно-транспортные происшествия</td>\n",
       "      <td>Светлое время суток</td>\n",
       "      <td>Не заполнено</td>\n",
       "      <td>Ярковский район</td>\n",
       "      <td>2021-11-17 14:25:00</td>\n",
       "      <td>Легкий</td>\n",
       "      <td>0</td>\n",
       "      <td>1</td>\n",
       "      <td>Тюменская область</td>\n",
       "      <td>Сухое</td>\n",
       "      <td>1</td>\n",
       "      <td>Все участники</td>\n",
       "    </tr>\n",
       "    <tr>\n",
       "      <th>3</th>\n",
       "      <td>2646211</td>\n",
       "      <td>Дорожно-транспортные происшествия</td>\n",
       "      <td>Светлое время суток</td>\n",
       "      <td>Не заполнено</td>\n",
       "      <td>Ярковский район</td>\n",
       "      <td>2021-11-11 13:00:00</td>\n",
       "      <td>С погибшими</td>\n",
       "      <td>1</td>\n",
       "      <td>0</td>\n",
       "      <td>Тюменская область</td>\n",
       "      <td>Обработанное противогололедными материалами</td>\n",
       "      <td>2</td>\n",
       "      <td>Все участники</td>\n",
       "    </tr>\n",
       "    <tr>\n",
       "      <th>4</th>\n",
       "      <td>2559792</td>\n",
       "      <td>Дорожно-транспортные происшествия</td>\n",
       "      <td>Светлое время суток</td>\n",
       "      <td>Зоны отдыха</td>\n",
       "      <td>Ярковский район</td>\n",
       "      <td>2021-04-11 17:55:00</td>\n",
       "      <td>Легкий</td>\n",
       "      <td>0</td>\n",
       "      <td>1</td>\n",
       "      <td>Тюменская область</td>\n",
       "      <td>Сухое</td>\n",
       "      <td>1</td>\n",
       "      <td>Все участники</td>\n",
       "    </tr>\n",
       "  </tbody>\n",
       "</table>\n",
       "</div>"
      ],
      "text/plain": [
       "        id                               tags  \\\n",
       "0  2620494  Дорожно-транспортные происшествия   \n",
       "1  2646198  Дорожно-транспортные происшествия   \n",
       "2  2646204  Дорожно-транспортные происшествия   \n",
       "3  2646211  Дорожно-транспортные происшествия   \n",
       "4  2559792  Дорожно-транспортные происшествия   \n",
       "\n",
       "                                         light  \\\n",
       "0  В темное время суток, освещение не включено   \n",
       "1                          Светлое время суток   \n",
       "2                          Светлое время суток   \n",
       "3                          Светлое время суток   \n",
       "4                          Светлое время суток   \n",
       "\n",
       "                                              nearby           region  \\\n",
       "0  Жилые дома индивидуальной застройки, Нерегулир...  Ярковский район   \n",
       "1                                       Не заполнено  Ярковский район   \n",
       "2                                       Не заполнено  Ярковский район   \n",
       "3                                       Не заполнено  Ярковский район   \n",
       "4                                        Зоны отдыха  Ярковский район   \n",
       "\n",
       "             datetime     severity  dead_count  injured_count  \\\n",
       "0 2021-09-16 19:40:00  С погибшими           1              0   \n",
       "1 2021-11-30 08:15:00      Тяжёлый           0              1   \n",
       "2 2021-11-17 14:25:00       Легкий           0              1   \n",
       "3 2021-11-11 13:00:00  С погибшими           1              0   \n",
       "4 2021-04-11 17:55:00       Легкий           0              1   \n",
       "\n",
       "       parent_region                                    road_conditions  \\\n",
       "0  Тюменская область  Иные недостатки, Сухое, Неправильное применени...   \n",
       "1  Тюменская область  Сухое, Отсутствие, плохая различимость горизон...   \n",
       "2  Тюменская область                                              Сухое   \n",
       "3  Тюменская область        Обработанное противогололедными материалами   \n",
       "4  Тюменская область                                              Сухое   \n",
       "\n",
       "   participants_count   participant_categories  \n",
       "0                   2  Все участники, Пешеходы  \n",
       "1                   3            Все участники  \n",
       "2                   1            Все участники  \n",
       "3                   2            Все участники  \n",
       "4                   1            Все участники  "
      ]
     },
     "execution_count": 15,
     "metadata": {},
     "output_type": "execute_result"
    }
   ],
   "source": [
    "df.head(5)"
   ]
  },
  {
   "cell_type": "markdown",
   "metadata": {},
   "source": [
    "*В данных убрали скобки и кавычки, привели к нужному типу. Теперь нужно разобраться с двумя столбцами, в которых внутри таблицы*"
   ]
  },
  {
   "cell_type": "code",
   "execution_count": 16,
   "metadata": {},
   "outputs": [
    {
     "data": {
      "text/html": [
       "<div>\n",
       "<style scoped>\n",
       "    .dataframe tbody tr th:only-of-type {\n",
       "        vertical-align: middle;\n",
       "    }\n",
       "\n",
       "    .dataframe tbody tr th {\n",
       "        vertical-align: top;\n",
       "    }\n",
       "\n",
       "    .dataframe thead th {\n",
       "        text-align: right;\n",
       "    }\n",
       "</style>\n",
       "<table border=\"1\" class=\"dataframe\">\n",
       "  <thead>\n",
       "    <tr style=\"text-align: right;\">\n",
       "      <th></th>\n",
       "      <th>id</th>\n",
       "      <th>year</th>\n",
       "      <th>brand</th>\n",
       "      <th>color</th>\n",
       "      <th>model</th>\n",
       "      <th>category</th>\n",
       "      <th>participants</th>\n",
       "    </tr>\n",
       "  </thead>\n",
       "  <tbody>\n",
       "    <tr>\n",
       "      <th>0</th>\n",
       "      <td>2620494</td>\n",
       "      <td>1989.0</td>\n",
       "      <td>ВАЗ</td>\n",
       "      <td>Иные цвета</td>\n",
       "      <td>Жигули  ВАЗ-2106 модификации</td>\n",
       "      <td>В-класс (малый) до 3,9 м</td>\n",
       "      <td>[{'role': 'Водитель', 'gender': 'Мужской', 'vi...</td>\n",
       "    </tr>\n",
       "    <tr>\n",
       "      <th>1</th>\n",
       "      <td>2646198</td>\n",
       "      <td>2014.0</td>\n",
       "      <td>LIFAN</td>\n",
       "      <td>Белый</td>\n",
       "      <td>Прочие модели Lifan</td>\n",
       "      <td>В-класс (малый) до 3,9 м</td>\n",
       "      <td>[{'role': 'Пассажир', 'gender': 'Мужской', 'vi...</td>\n",
       "    </tr>\n",
       "    <tr>\n",
       "      <th>2</th>\n",
       "      <td>2646198</td>\n",
       "      <td>2003.0</td>\n",
       "      <td>УАЗ</td>\n",
       "      <td>Белый</td>\n",
       "      <td>3962</td>\n",
       "      <td>Прочие легковые автомобили</td>\n",
       "      <td>[{'role': 'Водитель', 'gender': 'Мужской', 'vi...</td>\n",
       "    </tr>\n",
       "    <tr>\n",
       "      <th>3</th>\n",
       "      <td>2646204</td>\n",
       "      <td>2012.0</td>\n",
       "      <td>MAZDA</td>\n",
       "      <td>Иные цвета</td>\n",
       "      <td>Mazda 3</td>\n",
       "      <td>Прочие легковые автомобили</td>\n",
       "      <td>[{'role': 'Водитель', 'gender': 'Мужской', 'vi...</td>\n",
       "    </tr>\n",
       "    <tr>\n",
       "      <th>4</th>\n",
       "      <td>2646211</td>\n",
       "      <td>1988.0</td>\n",
       "      <td>MERCEDES</td>\n",
       "      <td>Белый</td>\n",
       "      <td>Прочие модели Mercedes</td>\n",
       "      <td>Фургоны</td>\n",
       "      <td>[{'role': 'Водитель', 'gender': 'Мужской', 'vi...</td>\n",
       "    </tr>\n",
       "  </tbody>\n",
       "</table>\n",
       "</div>"
      ],
      "text/plain": [
       "        id    year     brand       color                          model  \\\n",
       "0  2620494  1989.0       ВАЗ  Иные цвета   Жигули  ВАЗ-2106 модификации   \n",
       "1  2646198  2014.0     LIFAN       Белый            Прочие модели Lifan   \n",
       "2  2646198  2003.0       УАЗ       Белый                           3962   \n",
       "3  2646204  2012.0     MAZDA  Иные цвета                        Mazda 3   \n",
       "4  2646211  1988.0  MERCEDES       Белый         Прочие модели Mercedes   \n",
       "\n",
       "                     category  \\\n",
       "0    В-класс (малый) до 3,9 м   \n",
       "1    В-класс (малый) до 3,9 м   \n",
       "2  Прочие легковые автомобили   \n",
       "3  Прочие легковые автомобили   \n",
       "4                     Фургоны   \n",
       "\n",
       "                                        participants  \n",
       "0  [{'role': 'Водитель', 'gender': 'Мужской', 'vi...  \n",
       "1  [{'role': 'Пассажир', 'gender': 'Мужской', 'vi...  \n",
       "2  [{'role': 'Водитель', 'gender': 'Мужской', 'vi...  \n",
       "3  [{'role': 'Водитель', 'gender': 'Мужской', 'vi...  \n",
       "4  [{'role': 'Водитель', 'gender': 'Мужской', 'vi...  "
      ]
     },
     "execution_count": 16,
     "metadata": {},
     "output_type": "execute_result"
    }
   ],
   "source": [
    "vehicles_expanded = df_raw[['id','vehicles']].explode('vehicles').dropna().reset_index(drop=True)\n",
    "vehicles_raw = pd.json_normalize(vehicles_expanded['vehicles']).set_index(vehicles_expanded['id']).reset_index()\n",
    "vehicles_raw.head()"
   ]
  },
  {
   "cell_type": "markdown",
   "metadata": {},
   "source": [
    "*В данной таблице, мы видим еще столбец с таблицей, так же откроем ее и добавим столбец `id` к ней. Для таблице `vehicles` столбец `participants` нам не нужен, уберем его*"
   ]
  },
  {
   "cell_type": "code",
   "execution_count": 17,
   "metadata": {},
   "outputs": [
    {
     "data": {
      "text/html": [
       "<div>\n",
       "<style scoped>\n",
       "    .dataframe tbody tr th:only-of-type {\n",
       "        vertical-align: middle;\n",
       "    }\n",
       "\n",
       "    .dataframe tbody tr th {\n",
       "        vertical-align: top;\n",
       "    }\n",
       "\n",
       "    .dataframe thead th {\n",
       "        text-align: right;\n",
       "    }\n",
       "</style>\n",
       "<table border=\"1\" class=\"dataframe\">\n",
       "  <thead>\n",
       "    <tr style=\"text-align: right;\">\n",
       "      <th></th>\n",
       "      <th>id</th>\n",
       "      <th>year_ts</th>\n",
       "      <th>brand</th>\n",
       "      <th>color</th>\n",
       "      <th>model</th>\n",
       "      <th>category</th>\n",
       "    </tr>\n",
       "  </thead>\n",
       "  <tbody>\n",
       "    <tr>\n",
       "      <th>0</th>\n",
       "      <td>2620494</td>\n",
       "      <td>1989.0</td>\n",
       "      <td>ВАЗ</td>\n",
       "      <td>Иные цвета</td>\n",
       "      <td>Жигули  ВАЗ-2106 модификации</td>\n",
       "      <td>В-класс (малый) до 3,9 м</td>\n",
       "    </tr>\n",
       "    <tr>\n",
       "      <th>1</th>\n",
       "      <td>2646198</td>\n",
       "      <td>2014.0</td>\n",
       "      <td>LIFAN</td>\n",
       "      <td>Белый</td>\n",
       "      <td>Прочие модели Lifan</td>\n",
       "      <td>В-класс (малый) до 3,9 м</td>\n",
       "    </tr>\n",
       "    <tr>\n",
       "      <th>2</th>\n",
       "      <td>2646198</td>\n",
       "      <td>2003.0</td>\n",
       "      <td>УАЗ</td>\n",
       "      <td>Белый</td>\n",
       "      <td>3962</td>\n",
       "      <td>Прочие легковые автомобили</td>\n",
       "    </tr>\n",
       "    <tr>\n",
       "      <th>3</th>\n",
       "      <td>2646204</td>\n",
       "      <td>2012.0</td>\n",
       "      <td>MAZDA</td>\n",
       "      <td>Иные цвета</td>\n",
       "      <td>Mazda 3</td>\n",
       "      <td>Прочие легковые автомобили</td>\n",
       "    </tr>\n",
       "    <tr>\n",
       "      <th>4</th>\n",
       "      <td>2646211</td>\n",
       "      <td>1988.0</td>\n",
       "      <td>MERCEDES</td>\n",
       "      <td>Белый</td>\n",
       "      <td>Прочие модели Mercedes</td>\n",
       "      <td>Фургоны</td>\n",
       "    </tr>\n",
       "  </tbody>\n",
       "</table>\n",
       "</div>"
      ],
      "text/plain": [
       "        id  year_ts     brand       color                          model  \\\n",
       "0  2620494   1989.0       ВАЗ  Иные цвета   Жигули  ВАЗ-2106 модификации   \n",
       "1  2646198   2014.0     LIFAN       Белый            Прочие модели Lifan   \n",
       "2  2646198   2003.0       УАЗ       Белый                           3962   \n",
       "3  2646204   2012.0     MAZDA  Иные цвета                        Mazda 3   \n",
       "4  2646211   1988.0  MERCEDES       Белый         Прочие модели Mercedes   \n",
       "\n",
       "                     category  \n",
       "0    В-класс (малый) до 3,9 м  \n",
       "1    В-класс (малый) до 3,9 м  \n",
       "2  Прочие легковые автомобили  \n",
       "3  Прочие легковые автомобили  \n",
       "4                     Фургоны  "
      ]
     },
     "execution_count": 17,
     "metadata": {},
     "output_type": "execute_result"
    }
   ],
   "source": [
    "vehicles = vehicles_raw.drop(columns='participants')\n",
    "vehicles = vehicles.rename(columns={'year': 'year_ts'})\n",
    "vehicles.head(5)"
   ]
  },
  {
   "cell_type": "code",
   "execution_count": 18,
   "metadata": {},
   "outputs": [
    {
     "name": "stdout",
     "output_type": "stream",
     "text": [
      "<class 'pandas.core.frame.DataFrame'>\n",
      "RangeIndex: 43780 entries, 0 to 43779\n",
      "Data columns (total 6 columns):\n",
      " #   Column    Non-Null Count  Dtype  \n",
      "---  ------    --------------  -----  \n",
      " 0   id        43780 non-null  int64  \n",
      " 1   year_ts   41202 non-null  float64\n",
      " 2   brand     41319 non-null  object \n",
      " 3   color     42157 non-null  object \n",
      " 4   model     41319 non-null  object \n",
      " 5   category  43780 non-null  object \n",
      "dtypes: float64(1), int64(1), object(4)\n",
      "memory usage: 2.0+ MB\n"
     ]
    }
   ],
   "source": [
    "vehicles.info()"
   ]
  },
  {
   "cell_type": "markdown",
   "metadata": {},
   "source": [
    "*Видим, что в таблице есть пропуски и не правильно указан тип в столбце с годом, приведем все в необходимый вид.\n",
    "В столбце `year` - пропуски заменим заглушкой `0`, изменим тип. В столбце `brand` пропуски поменяем на `'Прочие'`, в столбце `color` пропуски поменяем на `'Не заполнено'`, в столбце `model` пропуски поменяем на `'Не заполнено'`*"
   ]
  },
  {
   "cell_type": "code",
   "execution_count": 19,
   "metadata": {},
   "outputs": [
    {
     "name": "stdout",
     "output_type": "stream",
     "text": [
      "2578\n",
      "[1.989e+03 2.014e+03 2.003e+03 2.012e+03 1.988e+03 2.000e+03 2.020e+03\n",
      " 2.007e+03 2.013e+03 2.010e+03 2.021e+03 2.017e+03 1.995e+03 2.008e+03\n",
      " 2.001e+03 2.006e+03 2.018e+03 1.985e+03       nan 2.019e+03 2.015e+03\n",
      " 2.002e+03 2.016e+03 2.004e+03 1.998e+03 1.980e+03 1.999e+03 2.009e+03\n",
      " 2.005e+03 1.997e+03 2.011e+03 1.984e+03 1.981e+03 1.983e+03 1.991e+03\n",
      " 1.993e+03 1.996e+03 1.994e+03 2.022e+03 2.023e+03 1.987e+03 2.024e+03\n",
      " 1.990e+03 1.992e+03 1.986e+03 1.982e+03 1.976e+03 1.978e+03 1.971e+03\n",
      " 1.977e+03 1.973e+03 1.979e+03 1.972e+03 1.968e+03 1.974e+03 1.952e+03\n",
      " 1.975e+03 1.969e+03 1.960e+03 1.966e+03 1.900e+03 1.967e+03 1.910e+03\n",
      " 1.000e+00]\n"
     ]
    }
   ],
   "source": [
    "print(vehicles['year_ts'].isna().sum())\n",
    "print(vehicles['year_ts'].unique())"
   ]
  },
  {
   "cell_type": "code",
   "execution_count": 20,
   "metadata": {},
   "outputs": [],
   "source": [
    "vehicles['year_ts'] = vehicles['year_ts'].fillna(0).astype('int')"
   ]
  },
  {
   "cell_type": "code",
   "execution_count": 21,
   "metadata": {},
   "outputs": [
    {
     "name": "stdout",
     "output_type": "stream",
     "text": [
      "2461\n",
      "['ВАЗ' 'LIFAN' 'УАЗ' 'MAZDA' 'MERCEDES' 'MITSUBISHI' 'Прочие марки ТС'\n",
      " 'KIA' 'TOYOTA' 'ISUZU' 'Прочие марки мотоциклов' 'HYUNDAI' 'NISSAN'\n",
      " 'ACURA' 'ГАЗ' 'HONDA' 'CHEVROLET' None 'VESPA' 'VOLKSWAGEN' 'МАЗ' 'FORD'\n",
      " 'PORSCHE' 'УРАЛ' 'BAJAJ' 'GEELY' 'MAN' 'DAEWOO' 'BMW' 'OPEL'\n",
      " 'Прочие марки строительной техники' 'ЗИЛ' 'КРАЗ' 'RENAULT' 'КАМАЗ'\n",
      " 'SCANIA' 'IVECO' 'ИЖ' 'FOTON' 'МАЗ-МАН' 'SKODA' 'VOLVO' 'SUZUKI'\n",
      " 'FREIGHTLINER' 'DAF' 'HOWO' 'FIAT' 'CHERY' 'HAVAL' 'ПАЗ' 'SSANGYONG'\n",
      " 'ЗАЗ' 'Прочие марки грузовых ТС' 'KAWASAKI' 'RAVON' 'SUBARU' 'DODGE'\n",
      " 'LEXUS' 'JAC' 'GREAT WALL' 'FAW' 'HIGER' 'PEUGEOT' 'OMODA' 'CITROEN'\n",
      " 'YAMAHA' 'Datsun' 'AUDI' 'НефАЗ' 'КАВЗ' 'KENWORTH' 'ТАГАЗ (TAGAZ)' 'OSSA'\n",
      " 'BRILLIANCE' 'ВОСХОД' 'BYD' 'MINSK' 'МОСКВИЧ' 'HUABEI'\n",
      " 'Прочие марки легких коммерческих ТС' 'HAIMA' 'Прочие марки легковых ТС'\n",
      " 'LAND ROVER' 'SETRA' 'KING LONG' 'SHAANXI' 'HOLDEN' 'PETERBILT' 'CHANGAN'\n",
      " 'HONLING' 'Прочие марки автобусов' 'MOTO GUZZI' 'BM' 'INFINITI' 'NEOPLAN'\n",
      " 'HARLEY-DAVIDSON' 'Прочие марки автокранов' 'CHRYSLER' 'DNEPR' 'YUTONG'\n",
      " 'SIAMOTO' 'G&G' 'JIANGLING' 'JEEP' 'TRIUMPH' 'SEAT' 'ALFER' 'HERCULES'\n",
      " 'ALFA ROMEO' 'ЛИАЗ' 'AC' 'BAW' 'ABM' 'ВИС' 'BIMOTA' 'BUICK' 'LANCIA'\n",
      " 'APRILIA' 'DONGHAI' 'MOTOTRANS' 'MOTOLEVO' 'ADMIRAL' 'DAIHATSU' 'DACIA'\n",
      " 'ALPINE' 'ЗИД' 'TULA' 'SHACMAN' 'JIANSHE-YAMAHA' 'TATA' 'SITRAK'\n",
      " 'RAJDOOT' 'MAICO' 'VENTURI' 'Прочие марки седельных тягачей' 'DONG FENG'\n",
      " 'MUDAN' 'VECTOR' 'BSA' 'GEO' 'CADILLAC' 'PGO' 'TERBERG' 'FORSAGE' 'IKCO'\n",
      " 'DERWAYS' 'HINDUSTAN' 'БОГДАН' 'BUELL' 'ASTRA' 'HAFEI' 'SHERCO' 'SAAB'\n",
      " 'ЛУИДОР' 'YANGTZE' 'MCC' 'DADI' 'ZX' 'PONTIAC' 'JAGUAR' 'GAS GAS'\n",
      " 'STERLING' 'ASIA' 'ROVER' 'CHANG FENG' 'SYM' 'MOTOBI' 'KTM' 'TVR'\n",
      " 'JAWA-CZ' 'MOTO MORINI' 'RELIANT' 'TATRA' 'DONINVEST' 'DUCATI' 'LAVERDA'\n",
      " 'EXEED' 'SCION' 'VAN VEEN' 'BENELLI' 'PUCH' 'SACHS' 'ZASTAVA' 'IKARUS'\n",
      " 'LINCOLN' 'DAIMLER' 'ROLLS-ROYCE' 'LDV' 'LIXIANG' 'TESLA' 'REGAL RAPTOR'\n",
      " 'SMART' 'ZONDA' 'VOR' 'MINI' 'VICTORY' 'CATERHAM' 'WIESMANN' 'GILERA'\n",
      " 'MERCURY' 'GMC' 'TOFAS' 'KREIDLER' 'BEIFAN']\n"
     ]
    }
   ],
   "source": [
    "print(vehicles['brand'].isna().sum())\n",
    "print(vehicles['brand'].unique())"
   ]
  },
  {
   "cell_type": "code",
   "execution_count": 22,
   "metadata": {},
   "outputs": [],
   "source": [
    "vehicles['brand'] = vehicles['brand'].fillna('Прочие')"
   ]
  },
  {
   "cell_type": "code",
   "execution_count": 23,
   "metadata": {},
   "outputs": [
    {
     "name": "stdout",
     "output_type": "stream",
     "text": [
      "1623\n",
      "['Иные цвета' 'Белый' 'Серый' 'Черный' 'Синий' 'Красный' 'Зеленый' None\n",
      " 'Коричневый' 'Оранжевый' 'Фиолетовый' 'Не заполнено' 'Многоцветный'\n",
      " 'Желтый']\n"
     ]
    }
   ],
   "source": [
    "print(vehicles['color'].isna().sum())\n",
    "print(vehicles['color'].unique())"
   ]
  },
  {
   "cell_type": "code",
   "execution_count": 24,
   "metadata": {},
   "outputs": [],
   "source": [
    "vehicles['color'] = vehicles['color'].fillna('Не заполнено')"
   ]
  },
  {
   "cell_type": "code",
   "execution_count": 25,
   "metadata": {},
   "outputs": [
    {
     "name": "stdout",
     "output_type": "stream",
     "text": [
      "2461\n",
      "[' Жигули  ВАЗ-2106 модификации' 'Прочие модели Lifan' '3962' ... '6323'\n",
      " '23' 'Sailor']\n"
     ]
    }
   ],
   "source": [
    "print(vehicles['model'].isna().sum())\n",
    "print(vehicles['model'].unique())"
   ]
  },
  {
   "cell_type": "code",
   "execution_count": 26,
   "metadata": {},
   "outputs": [],
   "source": [
    "vehicles['model'] = vehicles['model'].fillna('Не заполнено')"
   ]
  },
  {
   "cell_type": "code",
   "execution_count": 27,
   "metadata": {},
   "outputs": [
    {
     "name": "stdout",
     "output_type": "stream",
     "text": [
      "<class 'pandas.core.frame.DataFrame'>\n",
      "RangeIndex: 43780 entries, 0 to 43779\n",
      "Data columns (total 6 columns):\n",
      " #   Column    Non-Null Count  Dtype \n",
      "---  ------    --------------  ----- \n",
      " 0   id        43780 non-null  int64 \n",
      " 1   year_ts   43780 non-null  int32 \n",
      " 2   brand     43780 non-null  object\n",
      " 3   color     43780 non-null  object\n",
      " 4   model     43780 non-null  object\n",
      " 5   category  43780 non-null  object\n",
      "dtypes: int32(1), int64(1), object(4)\n",
      "memory usage: 1.8+ MB\n"
     ]
    }
   ],
   "source": [
    "vehicles.info()"
   ]
  },
  {
   "cell_type": "markdown",
   "metadata": {},
   "source": [
    "*Пропусков в таблице нет, нужный тип данных. Тоже самое проделаем с таблицей `participants_vehicles`*"
   ]
  },
  {
   "cell_type": "code",
   "execution_count": 28,
   "metadata": {},
   "outputs": [
    {
     "data": {
      "text/html": [
       "<div>\n",
       "<style scoped>\n",
       "    .dataframe tbody tr th:only-of-type {\n",
       "        vertical-align: middle;\n",
       "    }\n",
       "\n",
       "    .dataframe tbody tr th {\n",
       "        vertical-align: top;\n",
       "    }\n",
       "\n",
       "    .dataframe thead th {\n",
       "        text-align: right;\n",
       "    }\n",
       "</style>\n",
       "<table border=\"1\" class=\"dataframe\">\n",
       "  <thead>\n",
       "    <tr style=\"text-align: right;\">\n",
       "      <th></th>\n",
       "      <th>id</th>\n",
       "      <th>role</th>\n",
       "      <th>gender</th>\n",
       "      <th>violations</th>\n",
       "      <th>health_status</th>\n",
       "      <th>years_of_driving_experience</th>\n",
       "    </tr>\n",
       "  </thead>\n",
       "  <tbody>\n",
       "    <tr>\n",
       "      <th>0</th>\n",
       "      <td>2620494</td>\n",
       "      <td>Водитель</td>\n",
       "      <td>Мужской</td>\n",
       "      <td>[Нарушение правил проезда пешеходного перехода...</td>\n",
       "      <td>Не пострадал</td>\n",
       "      <td>9.0</td>\n",
       "    </tr>\n",
       "    <tr>\n",
       "      <th>1</th>\n",
       "      <td>2646198</td>\n",
       "      <td>Пассажир</td>\n",
       "      <td>Мужской</td>\n",
       "      <td>[]</td>\n",
       "      <td>Раненый, находящийся (находившийся) на стацион...</td>\n",
       "      <td>NaN</td>\n",
       "    </tr>\n",
       "    <tr>\n",
       "      <th>2</th>\n",
       "      <td>2646198</td>\n",
       "      <td>Водитель</td>\n",
       "      <td>Мужской</td>\n",
       "      <td>[]</td>\n",
       "      <td>Не пострадал</td>\n",
       "      <td>2.0</td>\n",
       "    </tr>\n",
       "    <tr>\n",
       "      <th>3</th>\n",
       "      <td>2646198</td>\n",
       "      <td>Водитель</td>\n",
       "      <td>Мужской</td>\n",
       "      <td>[Разворот в местах, где разворот запрещён, Упр...</td>\n",
       "      <td>Не пострадал</td>\n",
       "      <td>5.0</td>\n",
       "    </tr>\n",
       "    <tr>\n",
       "      <th>4</th>\n",
       "      <td>2646204</td>\n",
       "      <td>Водитель</td>\n",
       "      <td>Мужской</td>\n",
       "      <td>[Превышение установленной скорости движения]</td>\n",
       "      <td>Раненый, находящийся (находившийся) на амбулат...</td>\n",
       "      <td>16.0</td>\n",
       "    </tr>\n",
       "    <tr>\n",
       "      <th>...</th>\n",
       "      <td>...</td>\n",
       "      <td>...</td>\n",
       "      <td>...</td>\n",
       "      <td>...</td>\n",
       "      <td>...</td>\n",
       "      <td>...</td>\n",
       "    </tr>\n",
       "    <tr>\n",
       "      <th>59401</th>\n",
       "      <td>1797610</td>\n",
       "      <td>Пассажир</td>\n",
       "      <td>Женский</td>\n",
       "      <td>[]</td>\n",
       "      <td>Раненый, находящийся (находившийся)  на амбула...</td>\n",
       "      <td>NaN</td>\n",
       "    </tr>\n",
       "    <tr>\n",
       "      <th>59402</th>\n",
       "      <td>1797610</td>\n",
       "      <td>Водитель</td>\n",
       "      <td>Мужской</td>\n",
       "      <td>[Неправильный выбор дистанции]</td>\n",
       "      <td>Не пострадал</td>\n",
       "      <td>9.0</td>\n",
       "    </tr>\n",
       "    <tr>\n",
       "      <th>59403</th>\n",
       "      <td>1797610</td>\n",
       "      <td>Пассажир</td>\n",
       "      <td>Женский</td>\n",
       "      <td>[]</td>\n",
       "      <td>Раненый, находящийся (находившийся)  на амбула...</td>\n",
       "      <td>NaN</td>\n",
       "    </tr>\n",
       "    <tr>\n",
       "      <th>59404</th>\n",
       "      <td>1797610</td>\n",
       "      <td>Водитель</td>\n",
       "      <td>Мужской</td>\n",
       "      <td>[]</td>\n",
       "      <td>Не пострадал</td>\n",
       "      <td>40.0</td>\n",
       "    </tr>\n",
       "    <tr>\n",
       "      <th>59405</th>\n",
       "      <td>1797610</td>\n",
       "      <td>Пассажир</td>\n",
       "      <td>Женский</td>\n",
       "      <td>[]</td>\n",
       "      <td>Раненый, находящийся (находившийся)  на амбула...</td>\n",
       "      <td>NaN</td>\n",
       "    </tr>\n",
       "  </tbody>\n",
       "</table>\n",
       "<p>59406 rows × 6 columns</p>\n",
       "</div>"
      ],
      "text/plain": [
       "            id      role   gender  \\\n",
       "0      2620494  Водитель  Мужской   \n",
       "1      2646198  Пассажир  Мужской   \n",
       "2      2646198  Водитель  Мужской   \n",
       "3      2646198  Водитель  Мужской   \n",
       "4      2646204  Водитель  Мужской   \n",
       "...        ...       ...      ...   \n",
       "59401  1797610  Пассажир  Женский   \n",
       "59402  1797610  Водитель  Мужской   \n",
       "59403  1797610  Пассажир  Женский   \n",
       "59404  1797610  Водитель  Мужской   \n",
       "59405  1797610  Пассажир  Женский   \n",
       "\n",
       "                                              violations  \\\n",
       "0      [Нарушение правил проезда пешеходного перехода...   \n",
       "1                                                     []   \n",
       "2                                                     []   \n",
       "3      [Разворот в местах, где разворот запрещён, Упр...   \n",
       "4           [Превышение установленной скорости движения]   \n",
       "...                                                  ...   \n",
       "59401                                                 []   \n",
       "59402                     [Неправильный выбор дистанции]   \n",
       "59403                                                 []   \n",
       "59404                                                 []   \n",
       "59405                                                 []   \n",
       "\n",
       "                                           health_status  \\\n",
       "0                                           Не пострадал   \n",
       "1      Раненый, находящийся (находившийся) на стацион...   \n",
       "2                                           Не пострадал   \n",
       "3                                           Не пострадал   \n",
       "4      Раненый, находящийся (находившийся) на амбулат...   \n",
       "...                                                  ...   \n",
       "59401  Раненый, находящийся (находившийся)  на амбула...   \n",
       "59402                                       Не пострадал   \n",
       "59403  Раненый, находящийся (находившийся)  на амбула...   \n",
       "59404                                       Не пострадал   \n",
       "59405  Раненый, находящийся (находившийся)  на амбула...   \n",
       "\n",
       "       years_of_driving_experience  \n",
       "0                              9.0  \n",
       "1                              NaN  \n",
       "2                              2.0  \n",
       "3                              5.0  \n",
       "4                             16.0  \n",
       "...                            ...  \n",
       "59401                          NaN  \n",
       "59402                          9.0  \n",
       "59403                          NaN  \n",
       "59404                         40.0  \n",
       "59405                          NaN  \n",
       "\n",
       "[59406 rows x 6 columns]"
      ]
     },
     "execution_count": 28,
     "metadata": {},
     "output_type": "execute_result"
    }
   ],
   "source": [
    "participants_vehicles_expanded = vehicles_raw[['id','participants']].explode('participants').dropna().reset_index(drop=True)\n",
    "participants_vehicles = pd.json_normalize(participants_vehicles_expanded['participants']).set_index(participants_vehicles_expanded['id']).reset_index()\n",
    "participants_vehicles"
   ]
  },
  {
   "cell_type": "code",
   "execution_count": 29,
   "metadata": {},
   "outputs": [
    {
     "name": "stdout",
     "output_type": "stream",
     "text": [
      "<class 'pandas.core.frame.DataFrame'>\n",
      "RangeIndex: 59406 entries, 0 to 59405\n",
      "Data columns (total 6 columns):\n",
      " #   Column                       Non-Null Count  Dtype  \n",
      "---  ------                       --------------  -----  \n",
      " 0   id                           59406 non-null  int64  \n",
      " 1   role                         59406 non-null  object \n",
      " 2   gender                       57506 non-null  object \n",
      " 3   violations                   59406 non-null  object \n",
      " 4   health_status                59182 non-null  object \n",
      " 5   years_of_driving_experience  37064 non-null  float64\n",
      "dtypes: float64(1), int64(1), object(4)\n",
      "memory usage: 2.7+ MB\n"
     ]
    }
   ],
   "source": [
    "participants_vehicles.info()"
   ]
  },
  {
   "cell_type": "markdown",
   "metadata": {},
   "source": [
    "*Видим, что в таблице есть пропуски и не правильно указан тип в столбце со стажем, приведем все к необходимому виду. В столбце `gender` пропуски поменяем на `'Не заполнено'`, в столбце `violations` изменим тип, уберем скобки, а пропуски поменяем на `'Не заполнено'`, в столбце `health_status` пропуски поменяем на `'Не заполнено'`, а в столбце `years_of_driving_experience` - пропуски заменим заглушкой `0`, изменим тип.*"
   ]
  },
  {
   "cell_type": "code",
   "execution_count": 30,
   "metadata": {},
   "outputs": [
    {
     "name": "stdout",
     "output_type": "stream",
     "text": [
      "1900\n",
      "['Мужской' 'Женский' None]\n"
     ]
    }
   ],
   "source": [
    "print(participants_vehicles['gender'].isna().sum())\n",
    "print(participants_vehicles['gender'].unique())"
   ]
  },
  {
   "cell_type": "code",
   "execution_count": 31,
   "metadata": {},
   "outputs": [],
   "source": [
    "participants_vehicles['gender'] = participants_vehicles['gender'].fillna('Не заполнено')"
   ]
  },
  {
   "cell_type": "code",
   "execution_count": 32,
   "metadata": {},
   "outputs": [],
   "source": [
    "participants_vehicles['violations'] = participants_vehicles['violations'].astype('str').apply(convert_currency)"
   ]
  },
  {
   "cell_type": "code",
   "execution_count": 33,
   "metadata": {},
   "outputs": [
    {
     "name": "stdout",
     "output_type": "stream",
     "text": [
      "['Нарушение правил проезда пешеходного перехода, Несоблюдение требований ОСАГО'\n",
      " ''\n",
      " 'Разворот в местах, где разворот запрещён, Управление ТС в состоянии алкогольного опьянения, Отсутствие у водителя документов, предусмотренных законодательными и иными НПА'\n",
      " ...\n",
      " 'Несоблюдение очередности проезда, Управление ТС в состоянии алкогольного опьянения, Светопропускание стекол менее нормативного, Несоблюдение требований ОСАГО'\n",
      " 'Несоответствие скорости конкретным условиям движения, Эксплуатация технически неисправного ТС (проставляется в случае ДТП по причине технеисправности), Управление ТС в состоянии алкогольного опьянения, Управление ТС лицом, не имеющим права на управление ТС, Несоблюдение требований ОСАГО'\n",
      " 'Несоблюдение очередности проезда перекрестков, Управление ТС лицом, лишенным права управления, Несоблюдение требований ОСАГО, Отказ водителя от прохождения медицинского освидетельствования на состояние опьянения']\n",
      "0\n"
     ]
    }
   ],
   "source": [
    "print(participants_vehicles['violations'].unique())\n",
    "print(participants_vehicles['violations'].isna().sum())"
   ]
  },
  {
   "cell_type": "code",
   "execution_count": 34,
   "metadata": {},
   "outputs": [],
   "source": [
    "participants_vehicles['violations'] = participants_vehicles['violations'].replace('', 'Не заполнено')"
   ]
  },
  {
   "cell_type": "code",
   "execution_count": 35,
   "metadata": {},
   "outputs": [
    {
     "name": "stdout",
     "output_type": "stream",
     "text": [
      "224\n",
      "['Не пострадал'\n",
      " 'Раненый, находящийся (находившийся) на стационарном лечении'\n",
      " 'Раненый, находящийся (находившийся) на амбулаторном лечении, либо в условиях дневного стационара'\n",
      " 'Скончался на месте ДТП до приезда скорой медицинской помощи'\n",
      " 'Получил телесные повреждения с показанием к лечению в медицинских организациях, фактически лечение не проходил, к категории раненый не относится'\n",
      " 'Получил телесные повреждения с показанием к лечению в медицинских организациях (кроме разовой медицинской помощи)'\n",
      " 'Скончался в течение 7 суток'\n",
      " 'Получил травмы с оказанием разовой медицинской помощи, к категории раненый не относится'\n",
      " 'Скончался в течение 16 суток'\n",
      " 'Раненый, находящийся (находившийся)  на амбулаторном лечении, либо которому по характеру полученных травм обозначена необходимость амбулаторного лечения (вне зависимости от его фактического прохождения)'\n",
      " None 'Скончался в течение 1 суток' 'Скончался в течение 4 суток'\n",
      " 'Скончался при транспортировке' 'Скончался в течение 6 суток'\n",
      " 'Скончался в течение 9 суток'\n",
      " 'Скончался на месте ДТП по прибытию скорой медицинской помощи, но до транспортировки в мед. организацию'\n",
      " 'Скончался в течение 22 суток' 'Скончался в течение 5 суток'\n",
      " 'Скончался в течение 8 суток' 'Скончался в течение 14 суток'\n",
      " 'Скончался в течение 2 суток' 'Скончался в течение 21 суток'\n",
      " 'Скончался в течение 11 суток' 'Скончался в течение 26 суток'\n",
      " 'Скончался в течение 20 суток' 'Скончался в течение 3 суток'\n",
      " 'Скончался в течение 12 суток' 'Скончался в течение 10 суток'\n",
      " 'Скончался в течение 15 суток'\n",
      " 'Скончался на месте ДТП по прибытию скорой медицинской помощи, но до транспортировки в медицинское учреждение'\n",
      " 'Скончался в течение 17 суток' 'Скончался в течение 13 суток'\n",
      " 'Скончался в течение 28 суток' 'Скончался в течение 18 суток'\n",
      " 'Скончался в течение 24 суток' 'Скончался в течение 19 суток'\n",
      " 'Скончался в течение 27 суток' 'Скончался в течение 30 суток'\n",
      " 'Скончался в течение 23 суток']\n"
     ]
    }
   ],
   "source": [
    "print(participants_vehicles['health_status'].isna().sum())\n",
    "print(participants_vehicles['health_status'].unique())"
   ]
  },
  {
   "cell_type": "code",
   "execution_count": 36,
   "metadata": {},
   "outputs": [],
   "source": [
    "participants_vehicles['health_status'] = participants_vehicles['health_status'].fillna('Не заполнено')"
   ]
  },
  {
   "cell_type": "code",
   "execution_count": 37,
   "metadata": {},
   "outputs": [
    {
     "name": "stdout",
     "output_type": "stream",
     "text": [
      "22342\n",
      "[ 9. nan  2.  5. 16. 20. 21.  6. 22. 37. 15.  4. 14.  3. 13. 39. 35. 11.\n",
      " 46. 29. 36.  7. 24. 27.  1. 12. 31. 17. 32. 10. 26. 63. 41. 19. 45. 18.\n",
      "  8. 25. 30. 23. 33. 34. 47. 28. 44. 38. 42. 40. 43. 52. 49. 54. 51. 48.\n",
      " 50. 55. 56. 53. 62. 60. 58. 57. 61. 65. 59. 64.]\n"
     ]
    }
   ],
   "source": [
    "print(participants_vehicles['years_of_driving_experience'].isna().sum())\n",
    "print(participants_vehicles['years_of_driving_experience'].unique())"
   ]
  },
  {
   "cell_type": "code",
   "execution_count": 38,
   "metadata": {},
   "outputs": [],
   "source": [
    "participants_vehicles['years_of_driving_experience'] = participants_vehicles['years_of_driving_experience'].fillna(0).astype('int')"
   ]
  },
  {
   "cell_type": "code",
   "execution_count": 39,
   "metadata": {},
   "outputs": [
    {
     "name": "stdout",
     "output_type": "stream",
     "text": [
      "<class 'pandas.core.frame.DataFrame'>\n",
      "RangeIndex: 59406 entries, 0 to 59405\n",
      "Data columns (total 6 columns):\n",
      " #   Column                       Non-Null Count  Dtype \n",
      "---  ------                       --------------  ----- \n",
      " 0   id                           59406 non-null  int64 \n",
      " 1   role                         59406 non-null  object\n",
      " 2   gender                       59406 non-null  object\n",
      " 3   violations                   59406 non-null  object\n",
      " 4   health_status                59406 non-null  object\n",
      " 5   years_of_driving_experience  59406 non-null  int32 \n",
      "dtypes: int32(1), int64(1), object(4)\n",
      "memory usage: 2.5+ MB\n"
     ]
    }
   ],
   "source": [
    "participants_vehicles.info()"
   ]
  },
  {
   "cell_type": "markdown",
   "metadata": {},
   "source": [
    "*В таблице `participants` так же проверим все данные и приведем ее к нужному виду. Заменить пропуски на `Не заполнено` и убрать лишние скобки и кавычки*"
   ]
  },
  {
   "cell_type": "code",
   "execution_count": 40,
   "metadata": {},
   "outputs": [
    {
     "data": {
      "text/html": [
       "<div>\n",
       "<style scoped>\n",
       "    .dataframe tbody tr th:only-of-type {\n",
       "        vertical-align: middle;\n",
       "    }\n",
       "\n",
       "    .dataframe tbody tr th {\n",
       "        vertical-align: top;\n",
       "    }\n",
       "\n",
       "    .dataframe thead th {\n",
       "        text-align: right;\n",
       "    }\n",
       "</style>\n",
       "<table border=\"1\" class=\"dataframe\">\n",
       "  <thead>\n",
       "    <tr style=\"text-align: right;\">\n",
       "      <th></th>\n",
       "      <th>id</th>\n",
       "      <th>role</th>\n",
       "      <th>gender</th>\n",
       "      <th>violations</th>\n",
       "      <th>health_status</th>\n",
       "    </tr>\n",
       "  </thead>\n",
       "  <tbody>\n",
       "    <tr>\n",
       "      <th>0</th>\n",
       "      <td>2620494</td>\n",
       "      <td>Пешеход</td>\n",
       "      <td>Женский</td>\n",
       "      <td>[]</td>\n",
       "      <td>Скончался в течение 9 суток</td>\n",
       "    </tr>\n",
       "    <tr>\n",
       "      <th>1</th>\n",
       "      <td>2763772</td>\n",
       "      <td>Пешеход</td>\n",
       "      <td>Мужской</td>\n",
       "      <td>[Переход через проезжую часть в неустановленно...</td>\n",
       "      <td>Скончался на месте ДТП до приезда скорой медиц...</td>\n",
       "    </tr>\n",
       "    <tr>\n",
       "      <th>2</th>\n",
       "      <td>2776720</td>\n",
       "      <td>Пешеход</td>\n",
       "      <td>Мужской</td>\n",
       "      <td>[]</td>\n",
       "      <td>Раненый, находящийся (находившийся) на стацион...</td>\n",
       "    </tr>\n",
       "    <tr>\n",
       "      <th>3</th>\n",
       "      <td>2679049</td>\n",
       "      <td>Пешеход</td>\n",
       "      <td>Мужской</td>\n",
       "      <td>[]</td>\n",
       "      <td>Раненый, находящийся (находившийся) на стацион...</td>\n",
       "    </tr>\n",
       "    <tr>\n",
       "      <th>4</th>\n",
       "      <td>2679432</td>\n",
       "      <td>Пешеход</td>\n",
       "      <td>Мужской</td>\n",
       "      <td>[Переход через проезжую часть вне пешеходного ...</td>\n",
       "      <td>Раненый, находящийся (находившийся) на амбулат...</td>\n",
       "    </tr>\n",
       "    <tr>\n",
       "      <th>...</th>\n",
       "      <td>...</td>\n",
       "      <td>...</td>\n",
       "      <td>...</td>\n",
       "      <td>...</td>\n",
       "      <td>...</td>\n",
       "    </tr>\n",
       "    <tr>\n",
       "      <th>6201</th>\n",
       "      <td>1801368</td>\n",
       "      <td>Пешеход</td>\n",
       "      <td>Мужской</td>\n",
       "      <td>[]</td>\n",
       "      <td>Раненый, находящийся (находившийся)  на амбула...</td>\n",
       "    </tr>\n",
       "    <tr>\n",
       "      <th>6202</th>\n",
       "      <td>1801368</td>\n",
       "      <td>Пешеход</td>\n",
       "      <td>Мужской</td>\n",
       "      <td>[]</td>\n",
       "      <td>Раненый, находящийся (находившийся)  на амбула...</td>\n",
       "    </tr>\n",
       "    <tr>\n",
       "      <th>6203</th>\n",
       "      <td>1790427</td>\n",
       "      <td>Пешеход</td>\n",
       "      <td>Мужской</td>\n",
       "      <td>[Неожиданный выход из-за стоящего ТС]</td>\n",
       "      <td>Раненый, находящийся (находившийся)  на амбула...</td>\n",
       "    </tr>\n",
       "    <tr>\n",
       "      <th>6204</th>\n",
       "      <td>1795289</td>\n",
       "      <td>Пешеход</td>\n",
       "      <td>Мужской</td>\n",
       "      <td>[Неожиданный выход из-за ТС]</td>\n",
       "      <td>Раненый, находящийся (находившийся) на амбулат...</td>\n",
       "    </tr>\n",
       "    <tr>\n",
       "      <th>6205</th>\n",
       "      <td>1789132</td>\n",
       "      <td>Пешеход</td>\n",
       "      <td>Женский</td>\n",
       "      <td>[]</td>\n",
       "      <td>Раненый, находящийся (находившийся)  на амбула...</td>\n",
       "    </tr>\n",
       "  </tbody>\n",
       "</table>\n",
       "<p>6206 rows × 5 columns</p>\n",
       "</div>"
      ],
      "text/plain": [
       "           id     role   gender  \\\n",
       "0     2620494  Пешеход  Женский   \n",
       "1     2763772  Пешеход  Мужской   \n",
       "2     2776720  Пешеход  Мужской   \n",
       "3     2679049  Пешеход  Мужской   \n",
       "4     2679432  Пешеход  Мужской   \n",
       "...       ...      ...      ...   \n",
       "6201  1801368  Пешеход  Мужской   \n",
       "6202  1801368  Пешеход  Мужской   \n",
       "6203  1790427  Пешеход  Мужской   \n",
       "6204  1795289  Пешеход  Мужской   \n",
       "6205  1789132  Пешеход  Женский   \n",
       "\n",
       "                                             violations  \\\n",
       "0                                                    []   \n",
       "1     [Переход через проезжую часть в неустановленно...   \n",
       "2                                                    []   \n",
       "3                                                    []   \n",
       "4     [Переход через проезжую часть вне пешеходного ...   \n",
       "...                                                 ...   \n",
       "6201                                                 []   \n",
       "6202                                                 []   \n",
       "6203              [Неожиданный выход из-за стоящего ТС]   \n",
       "6204                       [Неожиданный выход из-за ТС]   \n",
       "6205                                                 []   \n",
       "\n",
       "                                          health_status  \n",
       "0                           Скончался в течение 9 суток  \n",
       "1     Скончался на месте ДТП до приезда скорой медиц...  \n",
       "2     Раненый, находящийся (находившийся) на стацион...  \n",
       "3     Раненый, находящийся (находившийся) на стацион...  \n",
       "4     Раненый, находящийся (находившийся) на амбулат...  \n",
       "...                                                 ...  \n",
       "6201  Раненый, находящийся (находившийся)  на амбула...  \n",
       "6202  Раненый, находящийся (находившийся)  на амбула...  \n",
       "6203  Раненый, находящийся (находившийся)  на амбула...  \n",
       "6204  Раненый, находящийся (находившийся) на амбулат...  \n",
       "6205  Раненый, находящийся (находившийся)  на амбула...  \n",
       "\n",
       "[6206 rows x 5 columns]"
      ]
     },
     "execution_count": 40,
     "metadata": {},
     "output_type": "execute_result"
    }
   ],
   "source": [
    "participants_expanded = df_raw[['id','participants']].explode('participants').dropna().reset_index(drop=True)\n",
    "participants = pd.json_normalize(participants_expanded['participants']).set_index(participants_expanded['id']).reset_index()\n",
    "participants"
   ]
  },
  {
   "cell_type": "code",
   "execution_count": 41,
   "metadata": {},
   "outputs": [
    {
     "name": "stdout",
     "output_type": "stream",
     "text": [
      "<class 'pandas.core.frame.DataFrame'>\n",
      "RangeIndex: 6206 entries, 0 to 6205\n",
      "Data columns (total 5 columns):\n",
      " #   Column         Non-Null Count  Dtype \n",
      "---  ------         --------------  ----- \n",
      " 0   id             6206 non-null   int64 \n",
      " 1   role           6206 non-null   object\n",
      " 2   gender         6112 non-null   object\n",
      " 3   violations     6206 non-null   object\n",
      " 4   health_status  6206 non-null   object\n",
      "dtypes: int64(1), object(4)\n",
      "memory usage: 242.5+ KB\n"
     ]
    }
   ],
   "source": [
    "participants.info()"
   ]
  },
  {
   "cell_type": "code",
   "execution_count": 42,
   "metadata": {},
   "outputs": [],
   "source": [
    "participants['violations'] = participants['violations'].astype('str').apply(convert_currency)"
   ]
  },
  {
   "cell_type": "code",
   "execution_count": 43,
   "metadata": {},
   "outputs": [
    {
     "name": "stdout",
     "output_type": "stream",
     "text": [
      "94\n",
      "['Женский' 'Мужской' None]\n"
     ]
    }
   ],
   "source": [
    "print(participants['gender'].isna().sum())\n",
    "print(participants['gender'].unique())"
   ]
  },
  {
   "cell_type": "code",
   "execution_count": 44,
   "metadata": {},
   "outputs": [],
   "source": [
    "participants['gender'] = participants['gender'].fillna('Не заполнено')"
   ]
  },
  {
   "cell_type": "code",
   "execution_count": 45,
   "metadata": {},
   "outputs": [
    {
     "name": "stdout",
     "output_type": "stream",
     "text": [
      "0\n",
      "[''\n",
      " 'Переход через проезжую часть в неустановленном месте (при наличии в зоне видимости перекрёстка)'\n",
      " 'Переход через проезжую часть вне пешеходного перехода в зоне его видимости либо при наличии в непосредственной близости подземного (надземного) пешеходного перехода'\n",
      " 'Отсутствие световозвращающих элементов'\n",
      " 'Ходьба вдоль проезжей части попутного направления вне населенного пункта при удовлетворительном состоянии обочины'\n",
      " 'Нахождение на проезжей части без цели её перехода'\n",
      " 'Нахождение на проезжей части без цели её перехода, Пешеход в состоянии алкогольного опьянения, Отсутствие световозвращающих элементов'\n",
      " 'Движение вдоль проезжей части попутного направления вне населенного пункта при удовлетворительном состоянии обочины'\n",
      " 'Нахождение на проезжей части без цели её перехода, Отсутствие световозвращающих элементов'\n",
      " 'Игра на проезжей части' 'Иные нарушения'\n",
      " 'Пешеход в состоянии алкогольного опьянения, Переход через проезжую часть в неустановленном месте (при наличии в зоне видимости перекрёстка)'\n",
      " 'Движение вдоль проезжей части попутного направления вне населенного пункта при удовлетворительном состоянии обочины, Отсутствие световозвращающих элементов'\n",
      " 'Иные нарушения, Нахождение на проезжей части без цели её перехода'\n",
      " 'Иные нарушения, Ходьба вдоль проезжей части попутного направления вне населенного пункта при удовлетворительном состоянии обочины'\n",
      " 'Иные нарушения, Движение вдоль проезжей части попутного направления вне населенного пункта при удовлетворительном состоянии обочины'\n",
      " 'Иные нарушения, Переход через проезжую часть вне пешеходного перехода в зоне его видимости либо при наличии в непосредственной близости подземного (надземного) пешеходного перехода'\n",
      " 'Движение вдоль проезжей части при наличии и удовлетворительном состоянии тротуара'\n",
      " 'Ходьба вдоль проезжей части попутного направления вне населенного пункта при удовлетворительном состоянии обочины, Пешеход в состоянии алкогольного опьянения'\n",
      " 'Иные нарушения, Переход через проезжую часть в неустановленном месте (при наличии в зоне видимости перекрёстка)'\n",
      " 'Переход через проезжую часть в неустановленном месте (при наличии в зоне видимости перекрёстка), Отсутствие световозвращающих элементов'\n",
      " 'Неожиданный выход из-за ТС'\n",
      " 'Иные нарушения, Пешеход в состоянии алкогольного опьянения'\n",
      " 'Неожиданный выход из-за ТС, Пешеход в состоянии алкогольного опьянения'\n",
      " 'Неожиданный выход из-за сооружений (деревьев), Игра на проезжей части'\n",
      " 'Неожиданный выход из-за сооружений (деревьев)'\n",
      " 'Игра на проезжей части, Нахождение на проезжей части без цели её перехода'\n",
      " 'Ходьба вдоль проезжей части при наличии и удовлетворительном состоянии тротуара'\n",
      " 'Нахождение на проезжей части без цели её перехода, Пешеход в состоянии алкогольного опьянения'\n",
      " 'Нахождение на проезжей части без цели её перехода, Движение вдоль проезжей части попутного направления вне населенного пункта при удовлетворительном состоянии обочины'\n",
      " 'Иные нарушения, Неожиданный выход из-за стоящего ТС'\n",
      " 'Неожиданный выход из-за стоящего ТС, Отсутствие световозвращающих элементов'\n",
      " 'Неожиданный выход из-за сооружений (деревьев), Иные нарушения, Пешеход в состоянии алкогольного опьянения, Переход через проезжую часть в неустановленном месте (при наличии в зоне видимости перекрёстка)'\n",
      " 'Движение вдоль проезжей части при наличии и удовлетворительном состоянии тротуара, Пешеход в состоянии алкогольного опьянения'\n",
      " 'Неожиданный выход из-за стоящего ТС'\n",
      " 'Иные нарушения, Нахождение на проезжей части без цели её перехода, Пешеход в состоянии алкогольного опьянения'\n",
      " 'Переход через проезжую часть вне пешеходного перехода в зоне его видимости либо при наличии в непосредственной близости подземного (надземного) пешеходного перехода, Отсутствие световозвращающих элементов'\n",
      " 'Передвижение по проезжей части на скейтборде (роликовых коньках и т.д.)'\n",
      " 'Неожиданный выход из-за ТС, Отсутствие световозвращающих элементов'\n",
      " 'Неожиданный выход из-за стоящего ТС, Переход через проезжую часть в неустановленном месте (при наличии в зоне видимости перекрёстка)'\n",
      " 'Игра на проезжей части, Иные нарушения'\n",
      " 'Неожиданный выход из-за ТС, Переход через проезжую часть вне пешеходного перехода в зоне его видимости либо при наличии в непосредственной близости подземного (надземного) пешеходного перехода'\n",
      " 'Неожиданный выход из-за сооружений (деревьев), Иные нарушения, Пешеход в состоянии алкогольного опьянения'\n",
      " 'Иные нарушения, Нахождение на проезжей части без цели её перехода, Движение вдоль проезжей части попутного направления вне населенного пункта при удовлетворительном состоянии обочины'\n",
      " 'Ходьба вдоль проезжей части при наличии и удовлетворительном состоянии тротуара, Переход через проезжую часть в неустановленном месте (при наличии в зоне видимости перекрёстка)'\n",
      " 'Превышение установленной скорости движения, Управление ТС лицом, не имеющим права на управление ТС, Нарушение правил применения мотошлема, Оставление места ДТП'\n",
      " 'Пешеход в возрасте до 7 лет без взрослого, Переход через проезжую часть в неустановленном месте (при наличии в зоне видимости перекрёстка)'\n",
      " 'Пешеход в состоянии алкогольного опьянения, Переход через проезжую часть вне пешеходного перехода в зоне его видимости либо при наличии в непосредственной близости подземного (надземного) пешеходного перехода'\n",
      " 'Иные нарушения, Отсутствие световозвращающих элементов'\n",
      " 'Ходьба вдоль проезжей части при наличии и удовлетворительном состоянии тротуара, Пешеход в состоянии алкогольного опьянения'\n",
      " 'Иные нарушения, Движение вдоль проезжей части попутного направления вне населенного пункта при удовлетворительном состоянии обочины, Пешеход в состоянии алкогольного опьянения'\n",
      " 'Иные нарушения, Ходьба вдоль проезжей части попутного направления вне населенного пункта при удовлетворительном состоянии обочины, Переход через проезжую часть в неустановленном месте (при наличии в зоне видимости перекрёстка)'\n",
      " 'Движение вдоль проезжей части при наличии и удовлетворительном состоянии тротуара, Отсутствие световозвращающих элементов'\n",
      " 'Игра на проезжей части, Нахождение на проезжей части без цели её перехода, Ходьба вдоль проезжей части попутного направления вне населенного пункта при удовлетворительном состоянии обочины'\n",
      " 'Неожиданный выход из-за сооружений (деревьев), Иные нарушения, Переход через проезжую часть в неустановленном месте (при наличии в зоне видимости перекрёстка)'\n",
      " 'Неподчинение сигналам регулирования, Отсутствие световозвращающих элементов'\n",
      " 'Игра на проезжей части, Пешеход в возрасте до 7 лет без взрослого'\n",
      " 'Иные нарушения, Движение вдоль проезжей части при наличии и удовлетворительном состоянии тротуара'\n",
      " 'Переход через проезжую часть вне пешеходного перехода в зоне его видимости либо при наличии в непосредственной близости подземного (надземного) пешеходного перехода, Неожиданный выход из-за стоящего ТС'\n",
      " 'Неподчинение сигналам регулирования'\n",
      " 'Переход через проезжую часть вне пешеходного перехода в зоне его видимости либо при наличии в непосредственной близости подземного (надземного) пешеходного перехода, Переход через проезжую часть в неустановленном месте (при наличии в зоне видимости перекрёстка)'\n",
      " 'Движение вдоль проезжей части попутного направления вне населенного пункта при удовлетворительном состоянии обочины, Пешеход в состоянии алкогольного опьянения'\n",
      " 'Переход проезжей части в запрещённом месте (оборудованном пешеходными  ограждениями)'\n",
      " 'Передвижение по проезжей части на скейтборде (роликовых коньках и т.д.), Переход через проезжую часть в неустановленном месте (при наличии в зоне видимости перекрёстка)'\n",
      " 'Несоответствие скорости конкретным условиям движения'\n",
      " 'Нахождение на проезжей части без цели её перехода, Ходьба вдоль проезжей части попутного направления вне населенного пункта при удовлетворительном состоянии обочины'\n",
      " 'Ожидание маршрутного ТС на проезжей части, вне посадочных площадок, тротуаров и обочин (при их наличии)'\n",
      " 'Несоответствие скорости конкретным условиям движения, Управление ТС лицом, не имеющим права на управление ТС'\n",
      " 'Иные нарушения, Пешеход в возрасте до 7 лет без взрослого'\n",
      " 'Неожиданный выход из-за сооружений (деревьев), Отсутствие световозвращающих элементов'\n",
      " 'Пешеход в состоянии алкогольного опьянения, Переход через проезжую часть в неустановленном месте (при наличии в зоне видимости перекрёстка), Отсутствие световозвращающих элементов'\n",
      " 'Движение вдоль проезжей части попутного направления вне населенного пункта при удовлетворительном состоянии обочины, Пешеход в состоянии алкогольного опьянения, Отсутствие световозвращающих элементов'\n",
      " 'Неподчинение сигналам регулирования, Пешеход в состоянии алкогольного опьянения'\n",
      " 'Иные нарушения, Ходьба вдоль проезжей части попутного направления вне населенного пункта при удовлетворительном состоянии обочины, Пешеход в состоянии алкогольного опьянения'\n",
      " 'Пешеход в состоянии алкогольного опьянения, Неожиданный выход из-за стоящего ТС'\n",
      " 'Неподчинение сигналам регулирования, Иные нарушения'\n",
      " 'Нарушение правил расположения ТС на проезжей части, Управление ТС лицом, не имеющим права на управление ТС, Нарушение правил применения мотошлема'\n",
      " 'Движение вдоль проезжей части при наличии и удовлетворительном состоянии тротуара, Переход через проезжую часть вне пешеходного перехода в зоне его видимости либо при наличии в непосредственной близости подземного (надземного) пешеходного перехода'\n",
      " 'Нахождение на проезжей части без цели её перехода, Движение вдоль проезжей части при наличии и удовлетворительном состоянии тротуара'\n",
      " 'Неподчинение сигналам регулирования, Неожиданный выход из-за ТС'\n",
      " 'Переход через проезжую часть вне пешеходного перехода в зоне его видимости либо при наличии в непосредственной близости подземного (надземного) пешеходного перехода, Переход проезжей части в запрещённом месте (оборудованном пешеходными  ограждениями)'\n",
      " 'Пешеход в возрасте до 7 лет без взрослого, Переход через проезжую часть вне пешеходного перехода в зоне его видимости либо при наличии в непосредственной близости подземного (надземного) пешеходного перехода'\n",
      " 'Игра на проезжей части, Неожиданный выход из-за ТС'\n",
      " 'Неподчинение сигналам регулирования, Передвижение по проезжей части на скейтборде (роликовых коньках и т.д.)'\n",
      " 'Неподчинение сигналам регулирования, Переход через проезжую часть вне пешеходного перехода в зоне его видимости либо при наличии в непосредственной близости подземного (надземного) пешеходного перехода'\n",
      " 'Неожиданный выход из-за сооружений (деревьев), Переход через проезжую часть вне пешеходного перехода в зоне его видимости либо при наличии в непосредственной близости подземного (надземного) пешеходного перехода'\n",
      " 'Иные нарушения, Пешеход в состоянии алкогольного опьянения, Переход через проезжую часть вне пешеходного перехода в зоне его видимости либо при наличии в непосредственной близости подземного (надземного) пешеходного перехода'\n",
      " 'Пешеход в возрасте до 7 лет без взрослого, Неожиданный выход из-за стоящего ТС'\n",
      " 'Нахождение на проезжей части без цели её перехода, Передвижение по проезжей части на скейтборде (роликовых коньках и т.д.)'\n",
      " 'Пешеход в состоянии наркотического опьянения, Нахождение на проезжей части без цели её перехода'\n",
      " 'Нарушение правил пользования общественным транспортом'\n",
      " 'Неожиданный выход из-за сооружений (деревьев), Передвижение по проезжей части на скейтборде (роликовых коньках и т.д.)'\n",
      " 'Несоответствие скорости конкретным условиям движения, Управление ТС в состоянии алкогольного опьянения, Управление ТС лицом, не имеющим права на управление ТС'\n",
      " 'Пешеход в состоянии алкогольного опьянения, Переход проезжей части в запрещённом месте (оборудованном пешеходными  ограждениями)'\n",
      " 'Передвижение по проезжей части на скейтборде (роликовых коньках и т.д.), Переход через проезжую часть вне пешеходного перехода в зоне его видимости либо при наличии в непосредственной близости подземного (надземного) пешеходного перехода'\n",
      " 'Неожиданный выход из-за ТС, Неожиданный выход из-за стоящего ТС'\n",
      " 'Переход проезжей части перед приближающимся ТС с включёнными проблесковым маячком синего (сине-красного) цвета и звуковым сигналом'\n",
      " 'Пешеход в возрасте до 7 лет без взрослого'\n",
      " 'Неожиданный выход из-за ТС, Переход через проезжую часть в неустановленном месте (при наличии в зоне видимости перекрёстка)']\n"
     ]
    }
   ],
   "source": [
    "print(participants['violations'].isna().sum())\n",
    "print(participants['violations'].unique())"
   ]
  },
  {
   "cell_type": "code",
   "execution_count": 46,
   "metadata": {},
   "outputs": [],
   "source": [
    "participants['violations'] = participants['violations'].replace('', 'Не заполнено')"
   ]
  },
  {
   "cell_type": "code",
   "execution_count": 47,
   "metadata": {},
   "outputs": [
    {
     "name": "stdout",
     "output_type": "stream",
     "text": [
      "<class 'pandas.core.frame.DataFrame'>\n",
      "RangeIndex: 6206 entries, 0 to 6205\n",
      "Data columns (total 5 columns):\n",
      " #   Column         Non-Null Count  Dtype \n",
      "---  ------         --------------  ----- \n",
      " 0   id             6206 non-null   int64 \n",
      " 1   role           6206 non-null   object\n",
      " 2   gender         6206 non-null   object\n",
      " 3   violations     6206 non-null   object\n",
      " 4   health_status  6206 non-null   object\n",
      "dtypes: int64(1), object(4)\n",
      "memory usage: 242.5+ KB\n"
     ]
    }
   ],
   "source": [
    "participants.info()"
   ]
  },
  {
   "cell_type": "markdown",
   "metadata": {},
   "source": [
    "#### 2.2 Проверить таблицы на дубликаты  "
   ]
  },
  {
   "cell_type": "code",
   "execution_count": 48,
   "metadata": {},
   "outputs": [
    {
     "data": {
      "text/plain": [
       "0"
      ]
     },
     "execution_count": 48,
     "metadata": {},
     "output_type": "execute_result"
    }
   ],
   "source": [
    "df.duplicated().sum()"
   ]
  },
  {
   "cell_type": "code",
   "execution_count": 49,
   "metadata": {},
   "outputs": [
    {
     "data": {
      "text/html": [
       "<div>\n",
       "<style scoped>\n",
       "    .dataframe tbody tr th:only-of-type {\n",
       "        vertical-align: middle;\n",
       "    }\n",
       "\n",
       "    .dataframe tbody tr th {\n",
       "        vertical-align: top;\n",
       "    }\n",
       "\n",
       "    .dataframe thead th {\n",
       "        text-align: right;\n",
       "    }\n",
       "</style>\n",
       "<table border=\"1\" class=\"dataframe\">\n",
       "  <thead>\n",
       "    <tr style=\"text-align: right;\">\n",
       "      <th></th>\n",
       "      <th>id</th>\n",
       "      <th>tags</th>\n",
       "      <th>light</th>\n",
       "      <th>nearby</th>\n",
       "      <th>region</th>\n",
       "      <th>datetime</th>\n",
       "      <th>severity</th>\n",
       "      <th>dead_count</th>\n",
       "      <th>injured_count</th>\n",
       "      <th>parent_region</th>\n",
       "      <th>road_conditions</th>\n",
       "      <th>participants_count</th>\n",
       "      <th>participant_categories</th>\n",
       "    </tr>\n",
       "  </thead>\n",
       "  <tbody>\n",
       "    <tr>\n",
       "      <th>11644</th>\n",
       "      <td>1787186</td>\n",
       "      <td>Дорожно-транспортные происшествия</td>\n",
       "      <td>Светлое время суток</td>\n",
       "      <td>Не заполнено</td>\n",
       "      <td>Тюмень</td>\n",
       "      <td>2017-06-15 00:01:00</td>\n",
       "      <td>Легкий</td>\n",
       "      <td>0</td>\n",
       "      <td>1</td>\n",
       "      <td>Тюменская область</td>\n",
       "      <td>Сухое</td>\n",
       "      <td>2</td>\n",
       "      <td>Все участники</td>\n",
       "    </tr>\n",
       "    <tr>\n",
       "      <th>18858</th>\n",
       "      <td>1787209</td>\n",
       "      <td>Дорожно-транспортные происшествия</td>\n",
       "      <td>Светлое время суток</td>\n",
       "      <td>Не заполнено</td>\n",
       "      <td>Тюмень</td>\n",
       "      <td>2017-06-15 00:01:00</td>\n",
       "      <td>Легкий</td>\n",
       "      <td>0</td>\n",
       "      <td>1</td>\n",
       "      <td>Тюменская область</td>\n",
       "      <td>Сухое</td>\n",
       "      <td>2</td>\n",
       "      <td>Все участники</td>\n",
       "    </tr>\n",
       "    <tr>\n",
       "      <th>20505</th>\n",
       "      <td>1787205</td>\n",
       "      <td>Дорожно-транспортные происшествия</td>\n",
       "      <td>Светлое время суток</td>\n",
       "      <td>Не заполнено</td>\n",
       "      <td>Тюмень</td>\n",
       "      <td>2017-06-15 00:01:00</td>\n",
       "      <td>Легкий</td>\n",
       "      <td>0</td>\n",
       "      <td>1</td>\n",
       "      <td>Тюменская область</td>\n",
       "      <td>Сухое</td>\n",
       "      <td>2</td>\n",
       "      <td>Все участники</td>\n",
       "    </tr>\n",
       "    <tr>\n",
       "      <th>21916</th>\n",
       "      <td>1787192</td>\n",
       "      <td>Дорожно-транспортные происшествия</td>\n",
       "      <td>Светлое время суток</td>\n",
       "      <td>Административные здания, АЗС, Остановка общест...</td>\n",
       "      <td>Тюмень</td>\n",
       "      <td>2017-06-15 00:01:00</td>\n",
       "      <td>Легкий</td>\n",
       "      <td>0</td>\n",
       "      <td>1</td>\n",
       "      <td>Тюменская область</td>\n",
       "      <td>Сухое</td>\n",
       "      <td>2</td>\n",
       "      <td>Все участники</td>\n",
       "    </tr>\n",
       "    <tr>\n",
       "      <th>22203</th>\n",
       "      <td>1787120</td>\n",
       "      <td>Дорожно-транспортные происшествия</td>\n",
       "      <td>Светлое время суток</td>\n",
       "      <td>Не заполнено</td>\n",
       "      <td>Тюмень</td>\n",
       "      <td>2017-06-27 00:01:00</td>\n",
       "      <td>Легкий</td>\n",
       "      <td>0</td>\n",
       "      <td>1</td>\n",
       "      <td>Тюменская область</td>\n",
       "      <td>Сухое</td>\n",
       "      <td>1</td>\n",
       "      <td>Все участники</td>\n",
       "    </tr>\n",
       "    <tr>\n",
       "      <th>23587</th>\n",
       "      <td>1795191</td>\n",
       "      <td>Дорожно-транспортные происшествия</td>\n",
       "      <td>Светлое время суток</td>\n",
       "      <td>Не заполнено</td>\n",
       "      <td>Тюмень</td>\n",
       "      <td>2017-11-11 11:00:00</td>\n",
       "      <td>Легкий</td>\n",
       "      <td>0</td>\n",
       "      <td>1</td>\n",
       "      <td>Тюменская область</td>\n",
       "      <td>Сухое</td>\n",
       "      <td>2</td>\n",
       "      <td>Все участники</td>\n",
       "    </tr>\n",
       "  </tbody>\n",
       "</table>\n",
       "</div>"
      ],
      "text/plain": [
       "            id                               tags                light  \\\n",
       "11644  1787186  Дорожно-транспортные происшествия  Светлое время суток   \n",
       "18858  1787209  Дорожно-транспортные происшествия  Светлое время суток   \n",
       "20505  1787205  Дорожно-транспортные происшествия  Светлое время суток   \n",
       "21916  1787192  Дорожно-транспортные происшествия  Светлое время суток   \n",
       "22203  1787120  Дорожно-транспортные происшествия  Светлое время суток   \n",
       "23587  1795191  Дорожно-транспортные происшествия  Светлое время суток   \n",
       "\n",
       "                                                  nearby  region  \\\n",
       "11644                                       Не заполнено  Тюмень   \n",
       "18858                                       Не заполнено  Тюмень   \n",
       "20505                                       Не заполнено  Тюмень   \n",
       "21916  Административные здания, АЗС, Остановка общест...  Тюмень   \n",
       "22203                                       Не заполнено  Тюмень   \n",
       "23587                                       Не заполнено  Тюмень   \n",
       "\n",
       "                 datetime severity  dead_count  injured_count  \\\n",
       "11644 2017-06-15 00:01:00   Легкий           0              1   \n",
       "18858 2017-06-15 00:01:00   Легкий           0              1   \n",
       "20505 2017-06-15 00:01:00   Легкий           0              1   \n",
       "21916 2017-06-15 00:01:00   Легкий           0              1   \n",
       "22203 2017-06-27 00:01:00   Легкий           0              1   \n",
       "23587 2017-11-11 11:00:00   Легкий           0              1   \n",
       "\n",
       "           parent_region road_conditions  participants_count  \\\n",
       "11644  Тюменская область           Сухое                   2   \n",
       "18858  Тюменская область           Сухое                   2   \n",
       "20505  Тюменская область           Сухое                   2   \n",
       "21916  Тюменская область           Сухое                   2   \n",
       "22203  Тюменская область           Сухое                   1   \n",
       "23587  Тюменская область           Сухое                   2   \n",
       "\n",
       "      participant_categories  \n",
       "11644          Все участники  \n",
       "18858          Все участники  \n",
       "20505          Все участники  \n",
       "21916          Все участники  \n",
       "22203          Все участники  \n",
       "23587          Все участники  "
      ]
     },
     "execution_count": 49,
     "metadata": {},
     "output_type": "execute_result"
    }
   ],
   "source": [
    "df[df.duplicated(['tags', 'light', 'nearby', 'region', 'datetime', 'severity', 'injured_count', 'dead_count', 'road_conditions', 'participants_count', 'participant_categories'])]"
   ]
  },
  {
   "cell_type": "code",
   "execution_count": 50,
   "metadata": {},
   "outputs": [],
   "source": [
    "df.drop_duplicates(subset=['tags', 'light', 'nearby', 'region', 'datetime', 'severity', 'injured_count', 'dead_count', 'road_conditions', 'participants_count', 'participant_categories'], keep=False, inplace=True)"
   ]
  },
  {
   "cell_type": "markdown",
   "metadata": {},
   "source": [
    "*Явных дубликатов не обнаружено, не явные выявлены и удалены*"
   ]
  },
  {
   "cell_type": "code",
   "execution_count": 51,
   "metadata": {},
   "outputs": [
    {
     "data": {
      "text/plain": [
       "52"
      ]
     },
     "execution_count": 51,
     "metadata": {},
     "output_type": "execute_result"
    }
   ],
   "source": [
    "vehicles.duplicated().sum()"
   ]
  },
  {
   "cell_type": "code",
   "execution_count": 52,
   "metadata": {},
   "outputs": [],
   "source": [
    "vehicles = vehicles.drop_duplicates().reset_index(drop=True)"
   ]
  },
  {
   "cell_type": "markdown",
   "metadata": {},
   "source": [
    "*Явные дубликаты удалены, не явные дубликаты выявлять не будем, так как одинаковых авто с годом, цветом, классом очень много на дорогах регионов*"
   ]
  },
  {
   "cell_type": "code",
   "execution_count": 53,
   "metadata": {},
   "outputs": [
    {
     "data": {
      "text/plain": [
       "2545"
      ]
     },
     "execution_count": 53,
     "metadata": {},
     "output_type": "execute_result"
    }
   ],
   "source": [
    "participants_vehicles.duplicated().sum()"
   ]
  },
  {
   "cell_type": "code",
   "execution_count": 54,
   "metadata": {},
   "outputs": [],
   "source": [
    "participants_vehicles = participants_vehicles.drop_duplicates().reset_index(drop=True)"
   ]
  },
  {
   "cell_type": "markdown",
   "metadata": {},
   "source": [
    "*Явные дубликаты удалены, не явные дубликаты выявлять не будем, так как совпадений в данной таблице может быть много*"
   ]
  },
  {
   "cell_type": "code",
   "execution_count": 55,
   "metadata": {},
   "outputs": [
    {
     "data": {
      "text/plain": [
       "131"
      ]
     },
     "execution_count": 55,
     "metadata": {},
     "output_type": "execute_result"
    }
   ],
   "source": [
    "participants.duplicated().sum()"
   ]
  },
  {
   "cell_type": "code",
   "execution_count": 56,
   "metadata": {},
   "outputs": [],
   "source": [
    "participants = participants.drop_duplicates().reset_index(drop=True)"
   ]
  },
  {
   "cell_type": "markdown",
   "metadata": {},
   "source": [
    "*Явные дубликаты удалены, не явные дубликаты выявлять не будем, так как совпадений в данной таблице может быть много*"
   ]
  },
  {
   "cell_type": "markdown",
   "metadata": {},
   "source": [
    "#### 2.3 Проверить за какой период данными мы распологаем"
   ]
  },
  {
   "cell_type": "code",
   "execution_count": 57,
   "metadata": {},
   "outputs": [
    {
     "name": "stdout",
     "output_type": "stream",
     "text": [
      "Начало периода исследования: 2015-01-01 01:30:00\n"
     ]
    }
   ],
   "source": [
    "min = df['datetime'].min()\n",
    "print('Начало периода исследования:', min)"
   ]
  },
  {
   "cell_type": "code",
   "execution_count": 58,
   "metadata": {},
   "outputs": [
    {
     "name": "stdout",
     "output_type": "stream",
     "text": [
      "Конец периода исследования: 2024-09-30 20:00:00\n"
     ]
    }
   ],
   "source": [
    "max = df['datetime'].max()\n",
    "print('Конец периода исследования:', max)"
   ]
  },
  {
   "cell_type": "markdown",
   "metadata": {},
   "source": [
    "**Мы распологаем данными практически за 10 лет, начиная с января 2015 года по сентябрь 2024 года включительно. В таблицах содержится много данных по ДТП с разной тяжестью последствий как для ТС, так и для людей. Данные приведены в надлежащий вид, пропуски заменены на заглушки для удобства работы с данными.**"
   ]
  },
  {
   "cell_type": "markdown",
   "metadata": {},
   "source": [
    "### Шаг 3. Провести исследовательский анализ данных"
   ]
  },
  {
   "cell_type": "markdown",
   "metadata": {},
   "source": [
    "#### 3.1 Падает ли общее количество ДТП в регионе от 2015 к 2024 году, также посмотреть в какой период года увеличивается количество ДТП"
   ]
  },
  {
   "cell_type": "markdown",
   "metadata": {},
   "source": [
    "*Добавим в имеющуюся таблицу `df` столбец `year` и `month`, в котором укажем год и месяц ДТП, а так же столбец `month_year` месяц и год, для построения таблицы*"
   ]
  },
  {
   "cell_type": "code",
   "execution_count": 59,
   "metadata": {},
   "outputs": [],
   "source": [
    "df['year'] = pd.DatetimeIndex(df['datetime']).year\n",
    "df['month'] = pd.DatetimeIndex(df['datetime']).month\n",
    "df['month_year'] = df['datetime'].dt.to_period('M')"
   ]
  },
  {
   "cell_type": "code",
   "execution_count": 60,
   "metadata": {},
   "outputs": [
    {
     "data": {
      "text/html": [
       "<div>\n",
       "<style scoped>\n",
       "    .dataframe tbody tr th:only-of-type {\n",
       "        vertical-align: middle;\n",
       "    }\n",
       "\n",
       "    .dataframe tbody tr th {\n",
       "        vertical-align: top;\n",
       "    }\n",
       "\n",
       "    .dataframe thead th {\n",
       "        text-align: right;\n",
       "    }\n",
       "</style>\n",
       "<table border=\"1\" class=\"dataframe\">\n",
       "  <thead>\n",
       "    <tr style=\"text-align: right;\">\n",
       "      <th></th>\n",
       "      <th>id</th>\n",
       "      <th>tags</th>\n",
       "      <th>light</th>\n",
       "      <th>nearby</th>\n",
       "      <th>region</th>\n",
       "      <th>datetime</th>\n",
       "      <th>severity</th>\n",
       "      <th>dead_count</th>\n",
       "      <th>injured_count</th>\n",
       "      <th>parent_region</th>\n",
       "      <th>road_conditions</th>\n",
       "      <th>participants_count</th>\n",
       "      <th>participant_categories</th>\n",
       "      <th>year</th>\n",
       "      <th>month</th>\n",
       "      <th>month_year</th>\n",
       "    </tr>\n",
       "  </thead>\n",
       "  <tbody>\n",
       "    <tr>\n",
       "      <th>0</th>\n",
       "      <td>2620494</td>\n",
       "      <td>Дорожно-транспортные происшествия</td>\n",
       "      <td>В темное время суток, освещение не включено</td>\n",
       "      <td>Жилые дома индивидуальной застройки, Нерегулир...</td>\n",
       "      <td>Ярковский район</td>\n",
       "      <td>2021-09-16 19:40:00</td>\n",
       "      <td>С погибшими</td>\n",
       "      <td>1</td>\n",
       "      <td>0</td>\n",
       "      <td>Тюменская область</td>\n",
       "      <td>Иные недостатки, Сухое, Неправильное применени...</td>\n",
       "      <td>2</td>\n",
       "      <td>Все участники, Пешеходы</td>\n",
       "      <td>2021</td>\n",
       "      <td>9</td>\n",
       "      <td>2021-09</td>\n",
       "    </tr>\n",
       "    <tr>\n",
       "      <th>1</th>\n",
       "      <td>2646198</td>\n",
       "      <td>Дорожно-транспортные происшествия</td>\n",
       "      <td>Светлое время суток</td>\n",
       "      <td>Не заполнено</td>\n",
       "      <td>Ярковский район</td>\n",
       "      <td>2021-11-30 08:15:00</td>\n",
       "      <td>Тяжёлый</td>\n",
       "      <td>0</td>\n",
       "      <td>1</td>\n",
       "      <td>Тюменская область</td>\n",
       "      <td>Сухое, Отсутствие, плохая различимость горизон...</td>\n",
       "      <td>3</td>\n",
       "      <td>Все участники</td>\n",
       "      <td>2021</td>\n",
       "      <td>11</td>\n",
       "      <td>2021-11</td>\n",
       "    </tr>\n",
       "    <tr>\n",
       "      <th>2</th>\n",
       "      <td>2646204</td>\n",
       "      <td>Дорожно-транспортные происшествия</td>\n",
       "      <td>Светлое время суток</td>\n",
       "      <td>Не заполнено</td>\n",
       "      <td>Ярковский район</td>\n",
       "      <td>2021-11-17 14:25:00</td>\n",
       "      <td>Легкий</td>\n",
       "      <td>0</td>\n",
       "      <td>1</td>\n",
       "      <td>Тюменская область</td>\n",
       "      <td>Сухое</td>\n",
       "      <td>1</td>\n",
       "      <td>Все участники</td>\n",
       "      <td>2021</td>\n",
       "      <td>11</td>\n",
       "      <td>2021-11</td>\n",
       "    </tr>\n",
       "  </tbody>\n",
       "</table>\n",
       "</div>"
      ],
      "text/plain": [
       "        id                               tags  \\\n",
       "0  2620494  Дорожно-транспортные происшествия   \n",
       "1  2646198  Дорожно-транспортные происшествия   \n",
       "2  2646204  Дорожно-транспортные происшествия   \n",
       "\n",
       "                                         light  \\\n",
       "0  В темное время суток, освещение не включено   \n",
       "1                          Светлое время суток   \n",
       "2                          Светлое время суток   \n",
       "\n",
       "                                              nearby           region  \\\n",
       "0  Жилые дома индивидуальной застройки, Нерегулир...  Ярковский район   \n",
       "1                                       Не заполнено  Ярковский район   \n",
       "2                                       Не заполнено  Ярковский район   \n",
       "\n",
       "             datetime     severity  dead_count  injured_count  \\\n",
       "0 2021-09-16 19:40:00  С погибшими           1              0   \n",
       "1 2021-11-30 08:15:00      Тяжёлый           0              1   \n",
       "2 2021-11-17 14:25:00       Легкий           0              1   \n",
       "\n",
       "       parent_region                                    road_conditions  \\\n",
       "0  Тюменская область  Иные недостатки, Сухое, Неправильное применени...   \n",
       "1  Тюменская область  Сухое, Отсутствие, плохая различимость горизон...   \n",
       "2  Тюменская область                                              Сухое   \n",
       "\n",
       "   participants_count   participant_categories  year  month month_year  \n",
       "0                   2  Все участники, Пешеходы  2021      9    2021-09  \n",
       "1                   3            Все участники  2021     11    2021-11  \n",
       "2                   1            Все участники  2021     11    2021-11  "
      ]
     },
     "execution_count": 60,
     "metadata": {},
     "output_type": "execute_result"
    }
   ],
   "source": [
    "df.head(3) # Проверяем, что столбцы добавились"
   ]
  },
  {
   "cell_type": "code",
   "execution_count": 61,
   "metadata": {},
   "outputs": [
    {
     "data": {
      "text/html": [
       "<style  type=\"text/css\" >\n",
       "#T_ef61599a_bfb2_11ef_91dd_c01885d0b890row0_col0{\n",
       "            background-color:  #d2dbe8;\n",
       "            color:  #000000;\n",
       "        }#T_ef61599a_bfb2_11ef_91dd_c01885d0b890row1_col0{\n",
       "            background-color:  #a1c0ff;\n",
       "            color:  #000000;\n",
       "        }#T_ef61599a_bfb2_11ef_91dd_c01885d0b890row2_col0{\n",
       "            background-color:  #f7b79b;\n",
       "            color:  #000000;\n",
       "        }#T_ef61599a_bfb2_11ef_91dd_c01885d0b890row3_col0{\n",
       "            background-color:  #ea7b60;\n",
       "            color:  #000000;\n",
       "        }#T_ef61599a_bfb2_11ef_91dd_c01885d0b890row4_col0{\n",
       "            background-color:  #e97a5f;\n",
       "            color:  #000000;\n",
       "        }#T_ef61599a_bfb2_11ef_91dd_c01885d0b890row5_col0{\n",
       "            background-color:  #6f92f3;\n",
       "            color:  #000000;\n",
       "        }#T_ef61599a_bfb2_11ef_91dd_c01885d0b890row6_col0{\n",
       "            background-color:  #bbd1f8;\n",
       "            color:  #000000;\n",
       "        }#T_ef61599a_bfb2_11ef_91dd_c01885d0b890row7_col0{\n",
       "            background-color:  #98b9ff;\n",
       "            color:  #000000;\n",
       "        }#T_ef61599a_bfb2_11ef_91dd_c01885d0b890row8_col0{\n",
       "            background-color:  #b40426;\n",
       "            color:  #f1f1f1;\n",
       "        }#T_ef61599a_bfb2_11ef_91dd_c01885d0b890row9_col0{\n",
       "            background-color:  #3b4cc0;\n",
       "            color:  #f1f1f1;\n",
       "        }</style><table id=\"T_ef61599a_bfb2_11ef_91dd_c01885d0b890\" ><thead>    <tr>        <th class=\"blank level0\" ></th>        <th class=\"col_heading level0 col0\" >id</th>    </tr>    <tr>        <th class=\"index_name level0\" >year</th>        <th class=\"blank\" ></th>    </tr></thead><tbody>\n",
       "                <tr>\n",
       "                        <th id=\"T_ef61599a_bfb2_11ef_91dd_c01885d0b890level0_row0\" class=\"row_heading level0 row0\" >2015</th>\n",
       "                        <td id=\"T_ef61599a_bfb2_11ef_91dd_c01885d0b890row0_col0\" class=\"data row0 col0\" >2620</td>\n",
       "            </tr>\n",
       "            <tr>\n",
       "                        <th id=\"T_ef61599a_bfb2_11ef_91dd_c01885d0b890level0_row1\" class=\"row_heading level0 row1\" >2016</th>\n",
       "                        <td id=\"T_ef61599a_bfb2_11ef_91dd_c01885d0b890row1_col0\" class=\"data row1 col0\" >2509</td>\n",
       "            </tr>\n",
       "            <tr>\n",
       "                        <th id=\"T_ef61599a_bfb2_11ef_91dd_c01885d0b890level0_row2\" class=\"row_heading level0 row2\" >2017</th>\n",
       "                        <td id=\"T_ef61599a_bfb2_11ef_91dd_c01885d0b890row2_col0\" class=\"data row2 col0\" >2771</td>\n",
       "            </tr>\n",
       "            <tr>\n",
       "                        <th id=\"T_ef61599a_bfb2_11ef_91dd_c01885d0b890level0_row3\" class=\"row_heading level0 row3\" >2018</th>\n",
       "                        <td id=\"T_ef61599a_bfb2_11ef_91dd_c01885d0b890row3_col0\" class=\"data row3 col0\" >2879</td>\n",
       "            </tr>\n",
       "            <tr>\n",
       "                        <th id=\"T_ef61599a_bfb2_11ef_91dd_c01885d0b890level0_row4\" class=\"row_heading level0 row4\" >2019</th>\n",
       "                        <td id=\"T_ef61599a_bfb2_11ef_91dd_c01885d0b890row4_col0\" class=\"data row4 col0\" >2880</td>\n",
       "            </tr>\n",
       "            <tr>\n",
       "                        <th id=\"T_ef61599a_bfb2_11ef_91dd_c01885d0b890level0_row5\" class=\"row_heading level0 row5\" >2020</th>\n",
       "                        <td id=\"T_ef61599a_bfb2_11ef_91dd_c01885d0b890row5_col0\" class=\"data row5 col0\" >2407</td>\n",
       "            </tr>\n",
       "            <tr>\n",
       "                        <th id=\"T_ef61599a_bfb2_11ef_91dd_c01885d0b890level0_row6\" class=\"row_heading level0 row6\" >2021</th>\n",
       "                        <td id=\"T_ef61599a_bfb2_11ef_91dd_c01885d0b890row6_col0\" class=\"data row6 col0\" >2565</td>\n",
       "            </tr>\n",
       "            <tr>\n",
       "                        <th id=\"T_ef61599a_bfb2_11ef_91dd_c01885d0b890level0_row7\" class=\"row_heading level0 row7\" >2022</th>\n",
       "                        <td id=\"T_ef61599a_bfb2_11ef_91dd_c01885d0b890row7_col0\" class=\"data row7 col0\" >2493</td>\n",
       "            </tr>\n",
       "            <tr>\n",
       "                        <th id=\"T_ef61599a_bfb2_11ef_91dd_c01885d0b890level0_row8\" class=\"row_heading level0 row8\" >2023</th>\n",
       "                        <td id=\"T_ef61599a_bfb2_11ef_91dd_c01885d0b890row8_col0\" class=\"data row8 col0\" >3009</td>\n",
       "            </tr>\n",
       "            <tr>\n",
       "                        <th id=\"T_ef61599a_bfb2_11ef_91dd_c01885d0b890level0_row9\" class=\"row_heading level0 row9\" >2024</th>\n",
       "                        <td id=\"T_ef61599a_bfb2_11ef_91dd_c01885d0b890row9_col0\" class=\"data row9 col0\" >2288</td>\n",
       "            </tr>\n",
       "    </tbody></table>"
      ],
      "text/plain": [
       "<pandas.io.formats.style.Styler at 0x3f3a5400>"
      ]
     },
     "execution_count": 61,
     "metadata": {},
     "output_type": "execute_result"
    }
   ],
   "source": [
    "(\n",
    "    df.pivot_table(index='year', values='id', aggfunc='count')\n",
    "    .sort_values(by='year')\n",
    "    .style.background_gradient('coolwarm')\n",
    ")"
   ]
  },
  {
   "cell_type": "code",
   "execution_count": 62,
   "metadata": {},
   "outputs": [
    {
     "data": {
      "image/png": "[encoded data removed]",
      "text/plain": [
       "<Figure size 504x504 with 1 Axes>"
      ]
     },
     "metadata": {
      "needs_background": "light"
     },
     "output_type": "display_data"
    }
   ],
   "source": [
    "(\n",
    "    df.pivot_table(index='year', values='id', aggfunc='count')\n",
    "    .sort_values(by='year')\n",
    "    .plot(style='o-',alpha=0.5, figsize=(7, 7), grid=True)\n",
    ")\n",
    "plt.legend()\n",
    "plt.xlabel('Год')\n",
    "plt.ylabel('Количество')\n",
    "plt.title('Распределение количества ДТП по годам')\n",
    "plt.show()"
   ]
  },
  {
   "cell_type": "code",
   "execution_count": 63,
   "metadata": {
    "scrolled": true
   },
   "outputs": [
    {
     "data": {
      "image/png": "[encoded data removed]",
      "text/plain": [
       "<Figure size 1440x432 with 1 Axes>"
      ]
     },
     "metadata": {
      "needs_background": "light"
     },
     "output_type": "display_data"
    }
   ],
   "source": [
    "(\n",
    "    df.pivot_table(index='month_year', values='id', aggfunc='count')\n",
    "    .sort_values(by='month_year')\n",
    "    .plot(style='*-',alpha=0.5, figsize=(20, 6), grid=True)\n",
    ")\n",
    "plt.legend()\n",
    "plt.xlabel('Год')\n",
    "plt.ylabel('Количество')\n",
    "plt.title('Распределение количества ДТП в течении года за весь период исследования')\n",
    "plt.show()"
   ]
  },
  {
   "cell_type": "code",
   "execution_count": 64,
   "metadata": {},
   "outputs": [
    {
     "data": {
      "image/png": "[encoded data removed]",
      "text/plain": [
       "<Figure size 1440x432 with 1 Axes>"
      ]
     },
     "metadata": {
      "needs_background": "light"
     },
     "output_type": "display_data"
    }
   ],
   "source": [
    "(\n",
    "    df.pivot_table(index='month', values='id', aggfunc='count')\n",
    "    .sort_values(by='month')\n",
    "    .plot(style='-',alpha=0.5, figsize=(20, 6), grid=True)\n",
    ")\n",
    "plt.legend()\n",
    "plt.xlabel('месяц')\n",
    "plt.ylabel('Количество')\n",
    "plt.title('Распределение количества ДТП по месяцам')\n",
    "plt.show()"
   ]
  },
  {
   "cell_type": "markdown",
   "metadata": {},
   "source": [
    "*После построения сводной таблицы и графиков можно сказать, что за период 2015-2024 г. в Тюменской области количество ДТП не снижается, мы видим падение количества в период локдауна, но большой рост в 2023 году, про 2024 год мы не можем сказать, но его показатели на графике по месяцам тоже показывают рост ДТП. Также после построения графиков за весь период года и отдельно по месяцам можно сделать вывод, что большее количество ДПТ приходится на период с апреля по октябрь с пиком в августе, связано это может быть, что в этот период люди ездят в отпуск, на дачу и вообще активно пользуются транспортом.*"
   ]
  },
  {
   "cell_type": "markdown",
   "metadata": {},
   "source": [
    "#### 3.2 Влияет ли время суток на тяжесть последствий ДТП для людей."
   ]
  },
  {
   "cell_type": "markdown",
   "metadata": {},
   "source": [
    "*Для решения данной задачи напишем функцию, которая позволит в столбце `'light'` собрать все данные про `Темное время суток` в один показатель*"
   ]
  },
  {
   "cell_type": "code",
   "execution_count": 65,
   "metadata": {},
   "outputs": [],
   "source": [
    "def type_light(row):\n",
    "    light = row['light']\n",
    "    if light != 'Светлое время суток':\n",
    "        return 'Темное время суток'\n",
    "    return 'Светлое время суток'"
   ]
  },
  {
   "cell_type": "code",
   "execution_count": 66,
   "metadata": {},
   "outputs": [
    {
     "name": "stderr",
     "output_type": "stream",
     "text": [
      "C:\\ProgramData\\Anaconda3\\lib\\site-packages\\ipykernel_launcher.py:2: SettingWithCopyWarning: \n",
      "A value is trying to be set on a copy of a slice from a DataFrame.\n",
      "Try using .loc[row_indexer,col_indexer] = value instead\n",
      "\n",
      "See the caveats in the documentation: https://pandas.pydata.org/pandas-docs/stable/user_guide/indexing.html#returning-a-view-versus-a-copy\n",
      "  \n"
     ]
    },
    {
     "data": {
      "text/html": [
       "<div>\n",
       "<style scoped>\n",
       "    .dataframe tbody tr th:only-of-type {\n",
       "        vertical-align: middle;\n",
       "    }\n",
       "\n",
       "    .dataframe tbody tr th {\n",
       "        vertical-align: top;\n",
       "    }\n",
       "\n",
       "    .dataframe thead th {\n",
       "        text-align: right;\n",
       "    }\n",
       "</style>\n",
       "<table border=\"1\" class=\"dataframe\">\n",
       "  <thead>\n",
       "    <tr style=\"text-align: right;\">\n",
       "      <th></th>\n",
       "      <th>id</th>\n",
       "      <th>tags</th>\n",
       "      <th>light</th>\n",
       "      <th>nearby</th>\n",
       "      <th>region</th>\n",
       "      <th>datetime</th>\n",
       "      <th>severity</th>\n",
       "      <th>dead_count</th>\n",
       "      <th>injured_count</th>\n",
       "      <th>parent_region</th>\n",
       "      <th>road_conditions</th>\n",
       "      <th>participants_count</th>\n",
       "      <th>participant_categories</th>\n",
       "      <th>year</th>\n",
       "      <th>month</th>\n",
       "      <th>month_year</th>\n",
       "      <th>light_type</th>\n",
       "    </tr>\n",
       "  </thead>\n",
       "  <tbody>\n",
       "    <tr>\n",
       "      <th>0</th>\n",
       "      <td>2620494</td>\n",
       "      <td>Дорожно-транспортные происшествия</td>\n",
       "      <td>В темное время суток, освещение не включено</td>\n",
       "      <td>Жилые дома индивидуальной застройки, Нерегулир...</td>\n",
       "      <td>Ярковский район</td>\n",
       "      <td>2021-09-16 19:40:00</td>\n",
       "      <td>С погибшими</td>\n",
       "      <td>1</td>\n",
       "      <td>0</td>\n",
       "      <td>Тюменская область</td>\n",
       "      <td>Иные недостатки, Сухое, Неправильное применени...</td>\n",
       "      <td>2</td>\n",
       "      <td>Все участники, Пешеходы</td>\n",
       "      <td>2021</td>\n",
       "      <td>9</td>\n",
       "      <td>2021-09</td>\n",
       "      <td>Темное время суток</td>\n",
       "    </tr>\n",
       "    <tr>\n",
       "      <th>1</th>\n",
       "      <td>2646198</td>\n",
       "      <td>Дорожно-транспортные происшествия</td>\n",
       "      <td>Светлое время суток</td>\n",
       "      <td>Не заполнено</td>\n",
       "      <td>Ярковский район</td>\n",
       "      <td>2021-11-30 08:15:00</td>\n",
       "      <td>Тяжёлый</td>\n",
       "      <td>0</td>\n",
       "      <td>1</td>\n",
       "      <td>Тюменская область</td>\n",
       "      <td>Сухое, Отсутствие, плохая различимость горизон...</td>\n",
       "      <td>3</td>\n",
       "      <td>Все участники</td>\n",
       "      <td>2021</td>\n",
       "      <td>11</td>\n",
       "      <td>2021-11</td>\n",
       "      <td>Светлое время суток</td>\n",
       "    </tr>\n",
       "    <tr>\n",
       "      <th>2</th>\n",
       "      <td>2646204</td>\n",
       "      <td>Дорожно-транспортные происшествия</td>\n",
       "      <td>Светлое время суток</td>\n",
       "      <td>Не заполнено</td>\n",
       "      <td>Ярковский район</td>\n",
       "      <td>2021-11-17 14:25:00</td>\n",
       "      <td>Легкий</td>\n",
       "      <td>0</td>\n",
       "      <td>1</td>\n",
       "      <td>Тюменская область</td>\n",
       "      <td>Сухое</td>\n",
       "      <td>1</td>\n",
       "      <td>Все участники</td>\n",
       "      <td>2021</td>\n",
       "      <td>11</td>\n",
       "      <td>2021-11</td>\n",
       "      <td>Светлое время суток</td>\n",
       "    </tr>\n",
       "  </tbody>\n",
       "</table>\n",
       "</div>"
      ],
      "text/plain": [
       "        id                               tags  \\\n",
       "0  2620494  Дорожно-транспортные происшествия   \n",
       "1  2646198  Дорожно-транспортные происшествия   \n",
       "2  2646204  Дорожно-транспортные происшествия   \n",
       "\n",
       "                                         light  \\\n",
       "0  В темное время суток, освещение не включено   \n",
       "1                          Светлое время суток   \n",
       "2                          Светлое время суток   \n",
       "\n",
       "                                              nearby           region  \\\n",
       "0  Жилые дома индивидуальной застройки, Нерегулир...  Ярковский район   \n",
       "1                                       Не заполнено  Ярковский район   \n",
       "2                                       Не заполнено  Ярковский район   \n",
       "\n",
       "             datetime     severity  dead_count  injured_count  \\\n",
       "0 2021-09-16 19:40:00  С погибшими           1              0   \n",
       "1 2021-11-30 08:15:00      Тяжёлый           0              1   \n",
       "2 2021-11-17 14:25:00       Легкий           0              1   \n",
       "\n",
       "       parent_region                                    road_conditions  \\\n",
       "0  Тюменская область  Иные недостатки, Сухое, Неправильное применени...   \n",
       "1  Тюменская область  Сухое, Отсутствие, плохая различимость горизон...   \n",
       "2  Тюменская область                                              Сухое   \n",
       "\n",
       "   participants_count   participant_categories  year  month month_year  \\\n",
       "0                   2  Все участники, Пешеходы  2021      9    2021-09   \n",
       "1                   3            Все участники  2021     11    2021-11   \n",
       "2                   1            Все участники  2021     11    2021-11   \n",
       "\n",
       "            light_type  \n",
       "0   Темное время суток  \n",
       "1  Светлое время суток  \n",
       "2  Светлое время суток  "
      ]
     },
     "execution_count": 66,
     "metadata": {},
     "output_type": "execute_result"
    }
   ],
   "source": [
    "df_light = df[(df['light'] != 'Не установлено')]\n",
    "df_light['light_type'] = df_light.apply(type_light, axis=1)\n",
    "df_light.head(3)"
   ]
  },
  {
   "cell_type": "code",
   "execution_count": 67,
   "metadata": {},
   "outputs": [
    {
     "data": {
      "image/png": "[encoded data removed]",
      "text/plain": [
       "<Figure size 504x504 with 1 Axes>"
      ]
     },
     "metadata": {},
     "output_type": "display_data"
    },
    {
     "data": {
      "image/png": "[encoded data removed]",
      "text/plain": [
       "<Figure size 504x504 with 1 Axes>"
      ]
     },
     "metadata": {},
     "output_type": "display_data"
    },
    {
     "data": {
      "image/png": "[encoded data removed]",
      "text/plain": [
       "<Figure size 504x504 with 1 Axes>"
      ]
     },
     "metadata": {},
     "output_type": "display_data"
    }
   ],
   "source": [
    "(\n",
    "   df_light[(df_light['severity'] == 'Легкий')].pivot_table(index='light_type', values='id', aggfunc='count')\n",
    "    .sort_values(by='id', ascending=False)\n",
    "    .plot.pie(y='id', autopct='%1.0f%%', figsize=(7, 7), legend=False)\n",
    ")\n",
    "plt.ylabel('')\n",
    "plt.title('Процентное распределение ДТП в разное время суток с легими последствиями')\n",
    "(\n",
    "    df_light[(df_light['severity'] == 'Тяжёлый')].pivot_table(index='light_type', values='id', aggfunc='count')\n",
    "    .sort_values(by='id', ascending=False)\n",
    "    .plot.pie(y='id', autopct='%1.0f%%', figsize=(7, 7), legend=False)\n",
    ")\n",
    "plt.ylabel('')\n",
    "plt.title('Процентное распределение ДТП в разное время суток с тяжелыми последствиями')\n",
    "(\n",
    "    df_light[(df_light['severity'] == 'С погибшими')].pivot_table(index='light_type', values='id', aggfunc='count')\n",
    "    .sort_values(by='id', ascending=False)\n",
    "    .plot.pie(y='id', autopct='%1.0f%%', figsize=(7, 7), legend=False)\n",
    ")\n",
    "plt.ylabel('')\n",
    "plt.title('Процентное распределение ДТП в разное время суток с погибшими')\n",
    "plt.show()"
   ]
  },
  {
   "cell_type": "markdown",
   "metadata": {},
   "source": [
    "*После построения графиков можно увидеть, что от 60 до 70 процентов дтп в светлое время суток с легкими и тяжелыми последствиями, а с погибшими график меняется и показывает, что больше 50 процентов дтп с летальным исходом в темное время суток и практически 50 процентов в светлое.*"
   ]
  },
  {
   "cell_type": "code",
   "execution_count": 68,
   "metadata": {},
   "outputs": [
    {
     "data": {
      "image/png": "[encoded data removed]",
      "text/plain": [
       "<Figure size 504x504 with 1 Axes>"
      ]
     },
     "metadata": {},
     "output_type": "display_data"
    },
    {
     "data": {
      "image/png": "[encoded data removed]",
      "text/plain": [
       "<Figure size 504x504 with 1 Axes>"
      ]
     },
     "metadata": {},
     "output_type": "display_data"
    }
   ],
   "source": [
    "(\n",
    "    df_light[(df_light['light_type'] == 'Светлое время суток')].pivot_table(index='severity', values='id', aggfunc='count')\n",
    "    .sort_values(by='severity', ascending=False)\n",
    "    .plot.pie(y='id', autopct='%1.0f%%', figsize=(7, 7), legend=False)\n",
    ")\n",
    "plt.ylabel('')\n",
    "plt.title('Процентное распределение тяжести последствий ДТП в светлое время суток')\n",
    "(\n",
    "    df_light[(df_light['light_type'] == 'Темное время суток')].pivot_table(index='severity', values='id', aggfunc='count')\n",
    "    .sort_values(by='severity', ascending=False)\n",
    "    .plot.pie(y='id', autopct='%1.0f%%', figsize=(7, 7), legend=False)\n",
    ")\n",
    "plt.ylabel('')\n",
    "plt.title('Процентное распределение тяжести последствий ДТП в темное время суток')\n",
    "plt.show()"
   ]
  },
  {
   "cell_type": "markdown",
   "metadata": {},
   "source": [
    "*После построения дополнительных графиков можно увидеть, что в темное время суток тяжесть последствий ДТП выше, чем в светлое время. С летальным исходом 9% в темное время, 5% в светлое, с тяжелыми последствиями 15% и 12% соответственно.*"
   ]
  },
  {
   "cell_type": "markdown",
   "metadata": {},
   "source": [
    "#### 3.3 Можно ли сказать, что чем старше авто, тем чаще оно является участником ДТП."
   ]
  },
  {
   "cell_type": "markdown",
   "metadata": {},
   "source": [
    "*Для решения данной задачи соеденим таблицы `df` и `vehicles` по `id`, потом добавим в нее столбец с возрастом авто: `avto_year`, а дальше напишем функцию, которая проставит значение в новый столбец с показателями: `до 5 лет`, `от 5 до 10 лет`, `от 10 до 20 лет` и `старше 20 лет`*"
   ]
  },
  {
   "cell_type": "code",
   "execution_count": 69,
   "metadata": {},
   "outputs": [
    {
     "name": "stdout",
     "output_type": "stream",
     "text": [
      "<class 'pandas.core.frame.DataFrame'>\n",
      "Int64Index: 43715 entries, 0 to 43714\n",
      "Data columns (total 21 columns):\n",
      " #   Column                  Non-Null Count  Dtype         \n",
      "---  ------                  --------------  -----         \n",
      " 0   id                      43715 non-null  int64         \n",
      " 1   tags                    43715 non-null  object        \n",
      " 2   light                   43715 non-null  object        \n",
      " 3   nearby                  43715 non-null  object        \n",
      " 4   region                  43715 non-null  object        \n",
      " 5   datetime                43715 non-null  datetime64[ns]\n",
      " 6   severity                43715 non-null  object        \n",
      " 7   dead_count              43715 non-null  int64         \n",
      " 8   injured_count           43715 non-null  int64         \n",
      " 9   parent_region           43715 non-null  object        \n",
      " 10  road_conditions         43715 non-null  object        \n",
      " 11  participants_count      43715 non-null  int64         \n",
      " 12  participant_categories  43715 non-null  object        \n",
      " 13  year                    43715 non-null  int64         \n",
      " 14  month                   43715 non-null  int64         \n",
      " 15  month_year              43715 non-null  period[M]     \n",
      " 16  year_ts                 43715 non-null  int32         \n",
      " 17  brand                   43715 non-null  object        \n",
      " 18  color                   43715 non-null  object        \n",
      " 19  model                   43715 non-null  object        \n",
      " 20  category                43715 non-null  object        \n",
      "dtypes: datetime64[ns](1), int32(1), int64(6), object(12), period[M](1)\n",
      "memory usage: 7.2+ MB\n"
     ]
    }
   ],
   "source": [
    "df_avto = df.merge(vehicles, on='id', how='inner')\n",
    "df_avto.info()"
   ]
  },
  {
   "cell_type": "code",
   "execution_count": 70,
   "metadata": {},
   "outputs": [],
   "source": [
    "df_avto['avto_year'] = df_avto['year'] - df_avto['year_ts']\n",
    "df_avto = df_avto[(df_avto['avto_year'] < 100)]"
   ]
  },
  {
   "cell_type": "code",
   "execution_count": 71,
   "metadata": {},
   "outputs": [],
   "source": [
    "def categorize_avto(year):\n",
    "    try:\n",
    "        if 0 < year <= 5:\n",
    "            return 'до 5 лет'\n",
    "        elif 5 < year <= 10:\n",
    "            return 'от 5 до 10 лет'\n",
    "        elif 10 < year <= 20:\n",
    "            return 'от 10 до 20'\n",
    "        elif 20 < year:\n",
    "            return 'старше 20 лет'\n",
    "        return 'Нет данных'  \n",
    "    except:\n",
    "        pass"
   ]
  },
  {
   "cell_type": "code",
   "execution_count": 72,
   "metadata": {},
   "outputs": [
    {
     "data": {
      "text/html": [
       "<div>\n",
       "<style scoped>\n",
       "    .dataframe tbody tr th:only-of-type {\n",
       "        vertical-align: middle;\n",
       "    }\n",
       "\n",
       "    .dataframe tbody tr th {\n",
       "        vertical-align: top;\n",
       "    }\n",
       "\n",
       "    .dataframe thead th {\n",
       "        text-align: right;\n",
       "    }\n",
       "</style>\n",
       "<table border=\"1\" class=\"dataframe\">\n",
       "  <thead>\n",
       "    <tr style=\"text-align: right;\">\n",
       "      <th></th>\n",
       "      <th>id</th>\n",
       "      <th>tags</th>\n",
       "      <th>light</th>\n",
       "      <th>nearby</th>\n",
       "      <th>region</th>\n",
       "      <th>datetime</th>\n",
       "      <th>severity</th>\n",
       "      <th>dead_count</th>\n",
       "      <th>injured_count</th>\n",
       "      <th>parent_region</th>\n",
       "      <th>...</th>\n",
       "      <th>year</th>\n",
       "      <th>month</th>\n",
       "      <th>month_year</th>\n",
       "      <th>year_ts</th>\n",
       "      <th>brand</th>\n",
       "      <th>color</th>\n",
       "      <th>model</th>\n",
       "      <th>category</th>\n",
       "      <th>avto_year</th>\n",
       "      <th>categorize_avto</th>\n",
       "    </tr>\n",
       "  </thead>\n",
       "  <tbody>\n",
       "    <tr>\n",
       "      <th>0</th>\n",
       "      <td>2620494</td>\n",
       "      <td>Дорожно-транспортные происшествия</td>\n",
       "      <td>В темное время суток, освещение не включено</td>\n",
       "      <td>Жилые дома индивидуальной застройки, Нерегулир...</td>\n",
       "      <td>Ярковский район</td>\n",
       "      <td>2021-09-16 19:40:00</td>\n",
       "      <td>С погибшими</td>\n",
       "      <td>1</td>\n",
       "      <td>0</td>\n",
       "      <td>Тюменская область</td>\n",
       "      <td>...</td>\n",
       "      <td>2021</td>\n",
       "      <td>9</td>\n",
       "      <td>2021-09</td>\n",
       "      <td>1989</td>\n",
       "      <td>ВАЗ</td>\n",
       "      <td>Иные цвета</td>\n",
       "      <td>Жигули  ВАЗ-2106 модификации</td>\n",
       "      <td>В-класс (малый) до 3,9 м</td>\n",
       "      <td>32</td>\n",
       "      <td>старше 20 лет</td>\n",
       "    </tr>\n",
       "    <tr>\n",
       "      <th>1</th>\n",
       "      <td>2646198</td>\n",
       "      <td>Дорожно-транспортные происшествия</td>\n",
       "      <td>Светлое время суток</td>\n",
       "      <td>Не заполнено</td>\n",
       "      <td>Ярковский район</td>\n",
       "      <td>2021-11-30 08:15:00</td>\n",
       "      <td>Тяжёлый</td>\n",
       "      <td>0</td>\n",
       "      <td>1</td>\n",
       "      <td>Тюменская область</td>\n",
       "      <td>...</td>\n",
       "      <td>2021</td>\n",
       "      <td>11</td>\n",
       "      <td>2021-11</td>\n",
       "      <td>2014</td>\n",
       "      <td>LIFAN</td>\n",
       "      <td>Белый</td>\n",
       "      <td>Прочие модели Lifan</td>\n",
       "      <td>В-класс (малый) до 3,9 м</td>\n",
       "      <td>7</td>\n",
       "      <td>от 5 до 10 лет</td>\n",
       "    </tr>\n",
       "    <tr>\n",
       "      <th>2</th>\n",
       "      <td>2646198</td>\n",
       "      <td>Дорожно-транспортные происшествия</td>\n",
       "      <td>Светлое время суток</td>\n",
       "      <td>Не заполнено</td>\n",
       "      <td>Ярковский район</td>\n",
       "      <td>2021-11-30 08:15:00</td>\n",
       "      <td>Тяжёлый</td>\n",
       "      <td>0</td>\n",
       "      <td>1</td>\n",
       "      <td>Тюменская область</td>\n",
       "      <td>...</td>\n",
       "      <td>2021</td>\n",
       "      <td>11</td>\n",
       "      <td>2021-11</td>\n",
       "      <td>2003</td>\n",
       "      <td>УАЗ</td>\n",
       "      <td>Белый</td>\n",
       "      <td>3962</td>\n",
       "      <td>Прочие легковые автомобили</td>\n",
       "      <td>18</td>\n",
       "      <td>от 10 до 20</td>\n",
       "    </tr>\n",
       "  </tbody>\n",
       "</table>\n",
       "<p>3 rows × 23 columns</p>\n",
       "</div>"
      ],
      "text/plain": [
       "        id                               tags  \\\n",
       "0  2620494  Дорожно-транспортные происшествия   \n",
       "1  2646198  Дорожно-транспортные происшествия   \n",
       "2  2646198  Дорожно-транспортные происшествия   \n",
       "\n",
       "                                         light  \\\n",
       "0  В темное время суток, освещение не включено   \n",
       "1                          Светлое время суток   \n",
       "2                          Светлое время суток   \n",
       "\n",
       "                                              nearby           region  \\\n",
       "0  Жилые дома индивидуальной застройки, Нерегулир...  Ярковский район   \n",
       "1                                       Не заполнено  Ярковский район   \n",
       "2                                       Не заполнено  Ярковский район   \n",
       "\n",
       "             datetime     severity  dead_count  injured_count  \\\n",
       "0 2021-09-16 19:40:00  С погибшими           1              0   \n",
       "1 2021-11-30 08:15:00      Тяжёлый           0              1   \n",
       "2 2021-11-30 08:15:00      Тяжёлый           0              1   \n",
       "\n",
       "       parent_region  ...  year  month month_year  year_ts  brand       color  \\\n",
       "0  Тюменская область  ...  2021      9    2021-09     1989    ВАЗ  Иные цвета   \n",
       "1  Тюменская область  ...  2021     11    2021-11     2014  LIFAN       Белый   \n",
       "2  Тюменская область  ...  2021     11    2021-11     2003    УАЗ       Белый   \n",
       "\n",
       "                           model                    category avto_year  \\\n",
       "0   Жигули  ВАЗ-2106 модификации    В-класс (малый) до 3,9 м        32   \n",
       "1            Прочие модели Lifan    В-класс (малый) до 3,9 м         7   \n",
       "2                           3962  Прочие легковые автомобили        18   \n",
       "\n",
       "  categorize_avto  \n",
       "0   старше 20 лет  \n",
       "1  от 5 до 10 лет  \n",
       "2     от 10 до 20  \n",
       "\n",
       "[3 rows x 23 columns]"
      ]
     },
     "execution_count": 72,
     "metadata": {},
     "output_type": "execute_result"
    }
   ],
   "source": [
    "df_avto['categorize_avto'] = df_avto['avto_year'].apply(categorize_avto)\n",
    "df_avto.head(3)"
   ]
  },
  {
   "cell_type": "code",
   "execution_count": 73,
   "metadata": {},
   "outputs": [
    {
     "data": {
      "image/png": "[encoded data removed]",
      "text/plain": [
       "<Figure size 504x504 with 1 Axes>"
      ]
     },
     "metadata": {},
     "output_type": "display_data"
    }
   ],
   "source": [
    "(\n",
    "    df_avto[(df_avto['categorize_avto'] != 'Нет данных')]\n",
    "    .pivot_table(index='categorize_avto', values='id', aggfunc='count')\n",
    "    .sort_values(by='id', ascending=False)\n",
    "    .plot.pie(y='id', autopct='%1.0f%%', figsize=(7, 7), legend=False)\n",
    ")\n",
    "plt.ylabel('')\n",
    "plt.title('Процентное распределение ДТП с разным возрастом автомобилей')\n",
    "plt.show()"
   ]
  },
  {
   "cell_type": "markdown",
   "metadata": {},
   "source": [
    "*На полученом графике мы видим, что доля автомобилей старше 20 лет самая маленькая из всех 7%, но и надо предпологать, что автомобилей на дороге с таким возрастом меньше. Остальные доли распределились 29% - возраст авто до 5 лет, 31% - возраст авто от 5 до 10 лет, 33% - возраст авто от 10 до 20 лет. Можно сказать, что есть некая зависимость возраста автомобиля и процента участия его в ДТП*"
   ]
  },
  {
   "cell_type": "markdown",
   "metadata": {},
   "source": [
    "#### 3.4 Можно ли сказать, что количество пострадавших или погибших зависит от возраста ТС при ДТП."
   ]
  },
  {
   "cell_type": "markdown",
   "metadata": {},
   "source": [
    "*Построим корреляционную матрицу для таблицы `df_avto` на ней мы сможем увидеть коэффицент корреляции между  возрастом автомобилей и количеством пострадавших и погибших*"
   ]
  },
  {
   "cell_type": "code",
   "execution_count": 74,
   "metadata": {},
   "outputs": [
    {
     "data": {
      "image/png": "[encoded data removed]",
      "text/plain": [
       "<Figure size 432x288 with 2 Axes>"
      ]
     },
     "metadata": {
      "needs_background": "light"
     },
     "output_type": "display_data"
    }
   ],
   "source": [
    "sns.heatmap(df_avto.corr(), annot=True, cmap='coolwarm')\n",
    "plt.title('Корреляционная матрица')\n",
    "plt.show()"
   ]
  },
  {
   "cell_type": "code",
   "execution_count": 75,
   "metadata": {},
   "outputs": [
    {
     "name": "stdout",
     "output_type": "stream",
     "text": [
      "Коэффициент корреляции между возрастом авто и погибшими: 0.012576397450480432\n"
     ]
    }
   ],
   "source": [
    "print( 'Коэффициент корреляции между возрастом авто и погибшими:', df_avto['avto_year'].corr(df_avto['dead_count']))"
   ]
  },
  {
   "cell_type": "code",
   "execution_count": 76,
   "metadata": {},
   "outputs": [
    {
     "name": "stdout",
     "output_type": "stream",
     "text": [
      "Коэффициент корреляции между возрастом авто и пострадавшими: 0.0029373677989749446\n"
     ]
    }
   ],
   "source": [
    "print( 'Коэффициент корреляции между возрастом авто и пострадавшими:', df_avto['avto_year'].corr(df_avto['injured_count']))"
   ]
  },
  {
   "cell_type": "markdown",
   "metadata": {},
   "source": [
    "*Мы видим, что зависимости возраста автомобиля и количества жертв и пострадавших не выявлено*"
   ]
  },
  {
   "cell_type": "markdown",
   "metadata": {},
   "source": [
    "**Исследовательский анализ показал, что количество ДТП на дорогах Тюменской области не снижается, а наоборот в 2023 году показали рост, так как у нас нет данных за полный 2024 год, сказать, что это тенденция к росту мы не можем. Так же мы увидели, что летние периоды самые аварийные, в зимний период таких показателей нет. Также можно сказать, что в темное время суток происходит больше ДТП с тяжелыми или летальными последствиями. Мы выяснили, что возраст автомобиля не влияет на тяжесть последствий ДТП, но есть некая зависимость возраста автомобиля и процент его участия в ДТП.**"
   ]
  },
  {
   "cell_type": "markdown",
   "metadata": {},
   "source": [
    "### Шаг 4. Проверить гипотезы"
   ]
  },
  {
   "cell_type": "markdown",
   "metadata": {},
   "source": [
    "#### 4.1 Можно ли утверждать, что в Тюмени помесячное количество ДТП  больше, чем во всех остальных районах области."
   ]
  },
  {
   "cell_type": "markdown",
   "metadata": {},
   "source": [
    "*Чтобы приступить к проверке гипотезы напишем функцию, которой поделим все данные из таблицы на `Тюмень`или `Районы области`далее добавим столбец с этими значениями и сделаем сводную таблицу, в котрой будут данные по этим двум районам и количество ДТП в каждый месяц.*"
   ]
  },
  {
   "cell_type": "code",
   "execution_count": 77,
   "metadata": {},
   "outputs": [],
   "source": [
    "def type_region(row):\n",
    "    region = row['region']\n",
    "    if region != 'Тюмень':\n",
    "        return 'Районы области'\n",
    "    return 'Тюмень'"
   ]
  },
  {
   "cell_type": "code",
   "execution_count": 78,
   "metadata": {},
   "outputs": [
    {
     "data": {
      "text/html": [
       "<div>\n",
       "<style scoped>\n",
       "    .dataframe tbody tr th:only-of-type {\n",
       "        vertical-align: middle;\n",
       "    }\n",
       "\n",
       "    .dataframe tbody tr th {\n",
       "        vertical-align: top;\n",
       "    }\n",
       "\n",
       "    .dataframe thead th {\n",
       "        text-align: right;\n",
       "    }\n",
       "</style>\n",
       "<table border=\"1\" class=\"dataframe\">\n",
       "  <thead>\n",
       "    <tr style=\"text-align: right;\">\n",
       "      <th></th>\n",
       "      <th>id</th>\n",
       "      <th>tags</th>\n",
       "      <th>light</th>\n",
       "      <th>nearby</th>\n",
       "      <th>region</th>\n",
       "      <th>datetime</th>\n",
       "      <th>severity</th>\n",
       "      <th>dead_count</th>\n",
       "      <th>injured_count</th>\n",
       "      <th>parent_region</th>\n",
       "      <th>road_conditions</th>\n",
       "      <th>participants_count</th>\n",
       "      <th>participant_categories</th>\n",
       "      <th>year</th>\n",
       "      <th>month</th>\n",
       "      <th>month_year</th>\n",
       "      <th>region_type</th>\n",
       "    </tr>\n",
       "  </thead>\n",
       "  <tbody>\n",
       "    <tr>\n",
       "      <th>0</th>\n",
       "      <td>2620494</td>\n",
       "      <td>Дорожно-транспортные происшествия</td>\n",
       "      <td>В темное время суток, освещение не включено</td>\n",
       "      <td>Жилые дома индивидуальной застройки, Нерегулир...</td>\n",
       "      <td>Ярковский район</td>\n",
       "      <td>2021-09-16 19:40:00</td>\n",
       "      <td>С погибшими</td>\n",
       "      <td>1</td>\n",
       "      <td>0</td>\n",
       "      <td>Тюменская область</td>\n",
       "      <td>Иные недостатки, Сухое, Неправильное применени...</td>\n",
       "      <td>2</td>\n",
       "      <td>Все участники, Пешеходы</td>\n",
       "      <td>2021</td>\n",
       "      <td>9</td>\n",
       "      <td>2021-09</td>\n",
       "      <td>Районы области</td>\n",
       "    </tr>\n",
       "    <tr>\n",
       "      <th>1</th>\n",
       "      <td>2646198</td>\n",
       "      <td>Дорожно-транспортные происшествия</td>\n",
       "      <td>Светлое время суток</td>\n",
       "      <td>Не заполнено</td>\n",
       "      <td>Ярковский район</td>\n",
       "      <td>2021-11-30 08:15:00</td>\n",
       "      <td>Тяжёлый</td>\n",
       "      <td>0</td>\n",
       "      <td>1</td>\n",
       "      <td>Тюменская область</td>\n",
       "      <td>Сухое, Отсутствие, плохая различимость горизон...</td>\n",
       "      <td>3</td>\n",
       "      <td>Все участники</td>\n",
       "      <td>2021</td>\n",
       "      <td>11</td>\n",
       "      <td>2021-11</td>\n",
       "      <td>Районы области</td>\n",
       "    </tr>\n",
       "    <tr>\n",
       "      <th>2</th>\n",
       "      <td>2646204</td>\n",
       "      <td>Дорожно-транспортные происшествия</td>\n",
       "      <td>Светлое время суток</td>\n",
       "      <td>Не заполнено</td>\n",
       "      <td>Ярковский район</td>\n",
       "      <td>2021-11-17 14:25:00</td>\n",
       "      <td>Легкий</td>\n",
       "      <td>0</td>\n",
       "      <td>1</td>\n",
       "      <td>Тюменская область</td>\n",
       "      <td>Сухое</td>\n",
       "      <td>1</td>\n",
       "      <td>Все участники</td>\n",
       "      <td>2021</td>\n",
       "      <td>11</td>\n",
       "      <td>2021-11</td>\n",
       "      <td>Районы области</td>\n",
       "    </tr>\n",
       "  </tbody>\n",
       "</table>\n",
       "</div>"
      ],
      "text/plain": [
       "        id                               tags  \\\n",
       "0  2620494  Дорожно-транспортные происшествия   \n",
       "1  2646198  Дорожно-транспортные происшествия   \n",
       "2  2646204  Дорожно-транспортные происшествия   \n",
       "\n",
       "                                         light  \\\n",
       "0  В темное время суток, освещение не включено   \n",
       "1                          Светлое время суток   \n",
       "2                          Светлое время суток   \n",
       "\n",
       "                                              nearby           region  \\\n",
       "0  Жилые дома индивидуальной застройки, Нерегулир...  Ярковский район   \n",
       "1                                       Не заполнено  Ярковский район   \n",
       "2                                       Не заполнено  Ярковский район   \n",
       "\n",
       "             datetime     severity  dead_count  injured_count  \\\n",
       "0 2021-09-16 19:40:00  С погибшими           1              0   \n",
       "1 2021-11-30 08:15:00      Тяжёлый           0              1   \n",
       "2 2021-11-17 14:25:00       Легкий           0              1   \n",
       "\n",
       "       parent_region                                    road_conditions  \\\n",
       "0  Тюменская область  Иные недостатки, Сухое, Неправильное применени...   \n",
       "1  Тюменская область  Сухое, Отсутствие, плохая различимость горизон...   \n",
       "2  Тюменская область                                              Сухое   \n",
       "\n",
       "   participants_count   participant_categories  year  month month_year  \\\n",
       "0                   2  Все участники, Пешеходы  2021      9    2021-09   \n",
       "1                   3            Все участники  2021     11    2021-11   \n",
       "2                   1            Все участники  2021     11    2021-11   \n",
       "\n",
       "      region_type  \n",
       "0  Районы области  \n",
       "1  Районы области  \n",
       "2  Районы области  "
      ]
     },
     "execution_count": 78,
     "metadata": {},
     "output_type": "execute_result"
    }
   ],
   "source": [
    "df_region = df\n",
    "df_region['region_type'] = df_region.apply(type_region, axis=1)\n",
    "df_region.head(3)"
   ]
  },
  {
   "cell_type": "code",
   "execution_count": 79,
   "metadata": {},
   "outputs": [],
   "source": [
    "tym_region = df_region.pivot_table(index='region_type', columns='month_year', values='id', aggfunc='count')"
   ]
  },
  {
   "cell_type": "markdown",
   "metadata": {},
   "source": [
    "*Нулевая гипотеза: Среднее количество ДТП в Тюмени и остальных районах равны. Альтернативная гипотеза: Среднее количество ДТП в Тюмени больше, чем в остальных районах области.*\n",
    "\n",
    "*Чтобы проверить данную гипотезу, нужно передать в метод `ttest_ind()` сначала выборку (tym_region.loc['Тюмень']), затем выборку (tym_region.loc['Районы области']). В качестве `alternative` укажем 'greater', то есть \"больше\". Уровень статистической значимости выберем 0,05.*"
   ]
  },
  {
   "cell_type": "code",
   "execution_count": 80,
   "metadata": {},
   "outputs": [
    {
     "name": "stdout",
     "output_type": "stream",
     "text": [
      "p-value: 7.097269624346794e-24\n",
      "Отвергаем нулевую гипотезу\n"
     ]
    }
   ],
   "source": [
    "alpha = 0.05 # уровень статистической значимости\n",
    "# если p-value окажется меньше него, отвергнем гипотезу\n",
    "\n",
    "results = st.ttest_ind(tym_region.loc['Тюмень'], tym_region.loc['Районы области'], alternative='greater')\n",
    "\n",
    "print(f'p-value: {results.pvalue}')\n",
    "\n",
    "if results.pvalue < alpha:\n",
    "    print('Отвергаем нулевую гипотезу')\n",
    "else:\n",
    "    print('Не получилось отвергнуть нулевую гипотезу') "
   ]
  },
  {
   "cell_type": "markdown",
   "metadata": {},
   "source": [
    "**Полученное значение p-value меньше заданного уровня значимости, поэтому нулевую гипотезу мы отвергаем. Есть основания говорить, что в Тюмени помесячное количество ДТП больше, чем в остальных районах.**"
   ]
  },
  {
   "cell_type": "markdown",
   "metadata": {},
   "source": [
    "#### 4.2 Можно ли утверждать, что женщины получают травмы (в том числе с летальным исходом) чаще, чем мужчины."
   ]
  },
  {
   "cell_type": "markdown",
   "metadata": {},
   "source": [
    "*Так как мы имеем две таблицы с участниками ДТП, в которых указаны пострадавшие, проведем два теста. Чтобы приступить к проверке гипотезы возьмем две таблицы `df` и `participants` и соединим их по `id`, так же поступим с `df` и `participants_vehicles`. Дальше составим сводную таблицу, в котрой посчитаем количество пострадавших мужчин и женщин в каждый месяц нашего исследования.*"
   ]
  },
  {
   "cell_type": "code",
   "execution_count": 81,
   "metadata": {},
   "outputs": [
    {
     "name": "stdout",
     "output_type": "stream",
     "text": [
      "<class 'pandas.core.frame.DataFrame'>\n",
      "Int64Index: 6052 entries, 0 to 6074\n",
      "Data columns (total 21 columns):\n",
      " #   Column                  Non-Null Count  Dtype         \n",
      "---  ------                  --------------  -----         \n",
      " 0   id                      6052 non-null   int64         \n",
      " 1   tags                    6052 non-null   object        \n",
      " 2   light                   6052 non-null   object        \n",
      " 3   nearby                  6052 non-null   object        \n",
      " 4   region                  6052 non-null   object        \n",
      " 5   datetime                6052 non-null   datetime64[ns]\n",
      " 6   severity                6052 non-null   object        \n",
      " 7   dead_count              6052 non-null   int64         \n",
      " 8   injured_count           6052 non-null   int64         \n",
      " 9   parent_region           6052 non-null   object        \n",
      " 10  road_conditions         6052 non-null   object        \n",
      " 11  participants_count      6052 non-null   int64         \n",
      " 12  participant_categories  6052 non-null   object        \n",
      " 13  year                    6052 non-null   int64         \n",
      " 14  month                   6052 non-null   int64         \n",
      " 15  month_year              6052 non-null   period[M]     \n",
      " 16  region_type             6052 non-null   object        \n",
      " 17  role                    6052 non-null   object        \n",
      " 18  gender                  6052 non-null   object        \n",
      " 19  violations              6052 non-null   object        \n",
      " 20  health_status           6052 non-null   object        \n",
      "dtypes: datetime64[ns](1), int64(6), object(13), period[M](1)\n",
      "memory usage: 1.0+ MB\n"
     ]
    }
   ],
   "source": [
    "df_participants = df.merge(participants, on='id', how='inner')\n",
    "df_participants = df_participants[(df_participants['health_status'] != 'Не пострадал')]\n",
    "df_participants.info()"
   ]
  },
  {
   "cell_type": "code",
   "execution_count": 82,
   "metadata": {},
   "outputs": [],
   "source": [
    "df_gender = df_participants.pivot_table(index='gender', columns='month_year', values='id', aggfunc='count')"
   ]
  },
  {
   "cell_type": "markdown",
   "metadata": {},
   "source": [
    "*Нулевая гипотеза: Среднее количество пострадавших в ДТП мужчин и женщин равны. Альтернативная гипотеза: Среднее количество пострадавших в ДТП женщин больше чем мужчин.*\n",
    "\n",
    "*Чтобы проверить данную гипотезу, нужно передать в метод `ttest_ind()` сначала выборку (df_gender.loc['Женский']), затем выборку (df_gender.loc['Мужской']). В качестве `alternative` укажем 'greater', то есть \"больше\". Уровень статистической значимости выберем 0,05.*"
   ]
  },
  {
   "cell_type": "code",
   "execution_count": 83,
   "metadata": {},
   "outputs": [
    {
     "name": "stdout",
     "output_type": "stream",
     "text": [
      "p-value: 0.9845080300744078\n",
      "Не получилось отвергнуть нулевую гипотезу\n"
     ]
    }
   ],
   "source": [
    "alpha = 0.05 # уровень статистической значимости\n",
    "# если p-value окажется меньше него, отвергнем гипотезу\n",
    "\n",
    "results = st.ttest_ind(df_gender.loc['Женский'], df_gender.loc['Мужской'], alternative='greater')\n",
    "\n",
    "print(f'p-value: {results.pvalue}')\n",
    "\n",
    "if results.pvalue < alpha:\n",
    "    print('Отвергаем нулевую гипотезу')\n",
    "else:\n",
    "    print('Не получилось отвергнуть нулевую гипотезу') "
   ]
  },
  {
   "cell_type": "markdown",
   "metadata": {},
   "source": [
    "**Полученное значение p-value больше заданного уровня значимости, поэтому нулевая гипотеза не отвергается.**"
   ]
  },
  {
   "cell_type": "code",
   "execution_count": 84,
   "metadata": {},
   "outputs": [
    {
     "name": "stdout",
     "output_type": "stream",
     "text": [
      "<class 'pandas.core.frame.DataFrame'>\n",
      "Int64Index: 29266 entries, 1 to 56840\n",
      "Data columns (total 22 columns):\n",
      " #   Column                       Non-Null Count  Dtype         \n",
      "---  ------                       --------------  -----         \n",
      " 0   id                           29266 non-null  int64         \n",
      " 1   tags                         29266 non-null  object        \n",
      " 2   light                        29266 non-null  object        \n",
      " 3   nearby                       29266 non-null  object        \n",
      " 4   region                       29266 non-null  object        \n",
      " 5   datetime                     29266 non-null  datetime64[ns]\n",
      " 6   severity                     29266 non-null  object        \n",
      " 7   dead_count                   29266 non-null  int64         \n",
      " 8   injured_count                29266 non-null  int64         \n",
      " 9   parent_region                29266 non-null  object        \n",
      " 10  road_conditions              29266 non-null  object        \n",
      " 11  participants_count           29266 non-null  int64         \n",
      " 12  participant_categories       29266 non-null  object        \n",
      " 13  year                         29266 non-null  int64         \n",
      " 14  month                        29266 non-null  int64         \n",
      " 15  month_year                   29266 non-null  period[M]     \n",
      " 16  region_type                  29266 non-null  object        \n",
      " 17  role                         29266 non-null  object        \n",
      " 18  gender                       29266 non-null  object        \n",
      " 19  violations                   29266 non-null  object        \n",
      " 20  health_status                29266 non-null  object        \n",
      " 21  years_of_driving_experience  29266 non-null  int32         \n",
      "dtypes: datetime64[ns](1), int32(1), int64(6), object(13), period[M](1)\n",
      "memory usage: 5.0+ MB\n"
     ]
    }
   ],
   "source": [
    "df_pv = df.merge(participants_vehicles, on='id', how='inner')\n",
    "df_pv = df_pv[(df_pv['health_status'] != 'Не пострадал')& (df_pv['health_status'] != 'Не заполнено')]\n",
    "df_pv.info()"
   ]
  },
  {
   "cell_type": "code",
   "execution_count": 85,
   "metadata": {},
   "outputs": [],
   "source": [
    "df_pv_gender = df_pv.pivot_table(index='gender', columns='month_year', values='id', aggfunc='count')"
   ]
  },
  {
   "cell_type": "markdown",
   "metadata": {},
   "source": [
    "*Чтобы проверить данную гипотезу, нужно передать в метод `ttest_ind()` сначала выборку (df_pv_gender.loc['Женский']), затем выборку (df_pv_gender.loc['Мужской']). В качестве `alternative` укажем 'greater', то есть \"больше\". Уровень статистической значимости выберем 0,05.*"
   ]
  },
  {
   "cell_type": "code",
   "execution_count": 86,
   "metadata": {},
   "outputs": [
    {
     "name": "stdout",
     "output_type": "stream",
     "text": [
      "p-value: 1.0\n",
      "Не получилось отвергнуть нулевую гипотезу\n"
     ]
    }
   ],
   "source": [
    "alpha = 0.05 # уровень статистической значимости\n",
    "# если p-value окажется меньше него, отвергнем гипотезу\n",
    "\n",
    "results = st.ttest_ind(df_pv_gender.loc['Женский'], df_pv_gender.loc['Мужской'], alternative='greater')\n",
    "\n",
    "print(f'p-value: {results.pvalue}')\n",
    "\n",
    "if results.pvalue < alpha:\n",
    "    print('Отвергаем нулевую гипотезу')\n",
    "else:\n",
    "    print('Не получилось отвергнуть нулевую гипотезу') "
   ]
  },
  {
   "cell_type": "markdown",
   "metadata": {},
   "source": [
    "**Полученное значение p-value больше заданного уровня значимости, поэтому нулевая гипотеза не отвергается.**"
   ]
  },
  {
   "cell_type": "markdown",
   "metadata": {},
   "source": [
    "**Оба теста показали, что нет оснований предпологать, что женщины чаще получают травмы в ДТП.**"
   ]
  },
  {
   "cell_type": "markdown",
   "metadata": {},
   "source": [
    "#### 4.3 Среднее количество ДТП на мокром или сухом покрытии одинаковы."
   ]
  },
  {
   "cell_type": "markdown",
   "metadata": {},
   "source": [
    "*Чтобы приступить к проверке гипотезы возьмем таблицу `df_pv` и в столбце `road_conditions` найдем все данные со словами `Сухое` и `Мокрое`. Далее сделаем две сводные таблицы, в котрой будут необходимые данные за каждый месяц.*"
   ]
  },
  {
   "cell_type": "code",
   "execution_count": 87,
   "metadata": {},
   "outputs": [],
   "source": [
    "rain = df_pv[df_pv['road_conditions'].str.contains('Мокрое')]\n",
    "x1 = rain.pivot_table(index='parent_region', columns='month_year', values='id', aggfunc='count')"
   ]
  },
  {
   "cell_type": "code",
   "execution_count": 88,
   "metadata": {},
   "outputs": [],
   "source": [
    "seche = df_pv[df_pv['road_conditions'].str.contains('Сухое')]\n",
    "x2 = seche.pivot_table(index='parent_region', columns='month_year', values='id', aggfunc='count')"
   ]
  },
  {
   "cell_type": "markdown",
   "metadata": {},
   "source": [
    "*Нулевая гипотеза: Среднее количество ДТП на мокром и сухом покрытии дорог равны. Альтернативная гипотеза: Среднее количество ДТП на мокром и сухом покрытии дорог разные.*\n",
    "\n",
    "*Чтобы проверить данную гипотезу, нужно передать в метод `ttest_ind()` сначала выборку (x1.loc['Тюменская область']), затем выборку (x2.loc['Тюменская область']). Уровень статистической значимости выберем 0,01.*"
   ]
  },
  {
   "cell_type": "code",
   "execution_count": 89,
   "metadata": {},
   "outputs": [
    {
     "name": "stdout",
     "output_type": "stream",
     "text": [
      "p-значение: 1.7635649124707565e-23\n",
      "Отвергаем нулевую гипотезу\n"
     ]
    }
   ],
   "source": [
    "alpha = 0.01 # уровень статистической значимости\n",
    "# если p-value окажется меньше него, отвергнем гипотезу\n",
    "\n",
    "# выберем метод для проверки гипотезы о равенстве среднего\n",
    "results = st.ttest_ind(x1.loc['Тюменская область'], x2.loc['Тюменская область'])\n",
    "\n",
    "print('p-значение:', results.pvalue)\n",
    "\n",
    "if results.pvalue < alpha:\n",
    "    print('Отвергаем нулевую гипотезу')\n",
    "else:\n",
    "    print('Не получилось отвергнуть нулевую гипотезу')"
   ]
  },
  {
   "cell_type": "markdown",
   "metadata": {},
   "source": [
    "**Полученное значение p-value меньше заданного уровня значимости, поэтому нулевую гипотезу мы отвергаем. Есть основания говорить, что cреднее количество ДТП на мокром и сухом покрытии дорог разные.**"
   ]
  },
  {
   "cell_type": "markdown",
   "metadata": {},
   "source": [
    "### Шаг 5. Общий вывод"
   ]
  },
  {
   "cell_type": "markdown",
   "metadata": {},
   "source": [
    "**В данном проекте мной была выбрана Тюменская область. Данными, которыми мы распологаем начинаются с января 2015 года по сентябрь 2024 года включительно. В таблицах содержится много данных по ДТП с разной тяжестью последствий как для ТС, так и для людей.**\n",
    "\n",
    "**Исследовательский анализ показал, что количество ДТП на дорогах Тюменской области не снижается за исследуемый период, а наоборот в 2023 году показали рост, так как у нас нет данных за полный 2024 год, сказать, что это тенденция к росту мы не можем. На графиках увидели, что в летний период самое большое количество аварий, связано это может быть с дачным периодом, периодом отпусков и использованием сезонной техники, а зимой неболшой рост есть в декабре, возможно предпраздничная суета дает о себе знать. Также можно сказать, что в темное время суток происходит больше ДТП с тяжелыми или летальными последствиями. Выяснили, что возраст автомобиля не влияет на тяжесть последствий ДТП, но есть некая связь возраста автомобиля и процент его участия в ДТП, понять эту связь можно, если найти данные по эксплуатации автомобилей за этот период в области. Без таких данных можно говорить только о цифрах на графиках.**\n",
    "\n",
    "**Так же в проекте были проверены гипотезы и можно высказать предположения:** \n",
    " - Есть основания говорить, что в Тюмени помесячное количество ДТП больше, чем в остальных районах.\n",
    " - Нет оснований предпологать, что женщины чаще получают травмы в ДТП.\n",
    " - Есть основания говорить, что cреднее количество ДТП на мокром и сухом покрытии дорог разные."
   ]
  },
  {
   "cell_type": "code",
   "execution_count": null,
   "metadata": {},
   "outputs": [],
   "source": []
  }
 ],
 "metadata": {
  "kernelspec": {
   "display_name": "Python 3",
   "language": "python",
   "name": "python3"
  },
  "language_info": {
   "codemirror_mode": {
    "name": "ipython",
    "version": 3
   },
   "file_extension": ".py",
   "mimetype": "text/x-python",
   "name": "python",
   "nbconvert_exporter": "python",
   "pygments_lexer": "ipython3",
   "version": "3.7.0"
  }
 },
 "nbformat": 4,
 "nbformat_minor": 2
}
